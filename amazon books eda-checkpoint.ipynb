{
 "cells": [
  {
   "cell_type": "code",
   "execution_count": 62,
   "id": "984ab054",
   "metadata": {},
   "outputs": [],
   "source": [
    "import numpy as np\n",
    "import pandas as pd\n",
    "import matplotlib.pyplot as plt\n",
    "import seaborn as sns"
   ]
  },
  {
   "cell_type": "code",
   "execution_count": 63,
   "id": "965a1b36",
   "metadata": {},
   "outputs": [],
   "source": [
    "bestsellers = pd.read_csv(\"bestsellers with categories.csv\")"
   ]
  },
  {
   "cell_type": "code",
   "execution_count": 64,
   "id": "c328ec6c",
   "metadata": {},
   "outputs": [
    {
     "data": {
      "text/html": [
       "<div>\n",
       "<style scoped>\n",
       "    .dataframe tbody tr th:only-of-type {\n",
       "        vertical-align: middle;\n",
       "    }\n",
       "\n",
       "    .dataframe tbody tr th {\n",
       "        vertical-align: top;\n",
       "    }\n",
       "\n",
       "    .dataframe thead th {\n",
       "        text-align: right;\n",
       "    }\n",
       "</style>\n",
       "<table border=\"1\" class=\"dataframe\">\n",
       "  <thead>\n",
       "    <tr style=\"text-align: right;\">\n",
       "      <th></th>\n",
       "      <th>Name</th>\n",
       "      <th>Author</th>\n",
       "      <th>User Rating</th>\n",
       "      <th>Reviews</th>\n",
       "      <th>Price</th>\n",
       "      <th>Year</th>\n",
       "      <th>Genre</th>\n",
       "    </tr>\n",
       "  </thead>\n",
       "  <tbody>\n",
       "    <tr>\n",
       "      <th>0</th>\n",
       "      <td>10-Day Green Smoothie Cleanse</td>\n",
       "      <td>JJ Smith</td>\n",
       "      <td>4.7</td>\n",
       "      <td>17350</td>\n",
       "      <td>8</td>\n",
       "      <td>2016</td>\n",
       "      <td>Non Fiction</td>\n",
       "    </tr>\n",
       "    <tr>\n",
       "      <th>1</th>\n",
       "      <td>11/22/63: A Novel</td>\n",
       "      <td>Stephen King</td>\n",
       "      <td>4.6</td>\n",
       "      <td>2052</td>\n",
       "      <td>22</td>\n",
       "      <td>2011</td>\n",
       "      <td>Fiction</td>\n",
       "    </tr>\n",
       "    <tr>\n",
       "      <th>2</th>\n",
       "      <td>12 Rules for Life: An Antidote to Chaos</td>\n",
       "      <td>Jordan B. Peterson</td>\n",
       "      <td>4.7</td>\n",
       "      <td>18979</td>\n",
       "      <td>15</td>\n",
       "      <td>2018</td>\n",
       "      <td>Non Fiction</td>\n",
       "    </tr>\n",
       "    <tr>\n",
       "      <th>3</th>\n",
       "      <td>1984 (Signet Classics)</td>\n",
       "      <td>George Orwell</td>\n",
       "      <td>4.7</td>\n",
       "      <td>21424</td>\n",
       "      <td>6</td>\n",
       "      <td>2017</td>\n",
       "      <td>Fiction</td>\n",
       "    </tr>\n",
       "    <tr>\n",
       "      <th>4</th>\n",
       "      <td>5,000 Awesome Facts (About Everything!) (Natio...</td>\n",
       "      <td>National Geographic Kids</td>\n",
       "      <td>4.8</td>\n",
       "      <td>7665</td>\n",
       "      <td>12</td>\n",
       "      <td>2019</td>\n",
       "      <td>Non Fiction</td>\n",
       "    </tr>\n",
       "  </tbody>\n",
       "</table>\n",
       "</div>"
      ],
      "text/plain": [
       "                                                Name  \\\n",
       "0                      10-Day Green Smoothie Cleanse   \n",
       "1                                  11/22/63: A Novel   \n",
       "2            12 Rules for Life: An Antidote to Chaos   \n",
       "3                             1984 (Signet Classics)   \n",
       "4  5,000 Awesome Facts (About Everything!) (Natio...   \n",
       "\n",
       "                     Author  User Rating  Reviews  Price  Year        Genre  \n",
       "0                  JJ Smith          4.7    17350      8  2016  Non Fiction  \n",
       "1              Stephen King          4.6     2052     22  2011      Fiction  \n",
       "2        Jordan B. Peterson          4.7    18979     15  2018  Non Fiction  \n",
       "3             George Orwell          4.7    21424      6  2017      Fiction  \n",
       "4  National Geographic Kids          4.8     7665     12  2019  Non Fiction  "
      ]
     },
     "execution_count": 64,
     "metadata": {},
     "output_type": "execute_result"
    }
   ],
   "source": [
    "bestsellers.head()"
   ]
  },
  {
   "cell_type": "code",
   "execution_count": 65,
   "id": "b836bc89",
   "metadata": {},
   "outputs": [
    {
     "data": {
      "text/plain": [
       "550"
      ]
     },
     "execution_count": 65,
     "metadata": {},
     "output_type": "execute_result"
    }
   ],
   "source": [
    "bestsellers.shape[0]"
   ]
  },
  {
   "cell_type": "code",
   "execution_count": 66,
   "id": "147ad650",
   "metadata": {},
   "outputs": [
    {
     "data": {
      "text/plain": [
       "(550, 7)"
      ]
     },
     "execution_count": 66,
     "metadata": {},
     "output_type": "execute_result"
    }
   ],
   "source": [
    "bestsellers.shape"
   ]
  },
  {
   "cell_type": "code",
   "execution_count": 67,
   "id": "212b4b80",
   "metadata": {},
   "outputs": [
    {
     "data": {
      "text/plain": [
       "Name            object\n",
       "Author          object\n",
       "User Rating    float64\n",
       "Reviews          int64\n",
       "Price            int64\n",
       "Year             int64\n",
       "Genre           object\n",
       "dtype: object"
      ]
     },
     "execution_count": 67,
     "metadata": {},
     "output_type": "execute_result"
    }
   ],
   "source": [
    "bestsellers.dtypes"
   ]
  },
  {
   "cell_type": "code",
   "execution_count": 68,
   "id": "d938d0ba",
   "metadata": {},
   "outputs": [],
   "source": [
    "bestsellers.Genre = bestsellers.Genre.astype('category')"
   ]
  },
  {
   "cell_type": "code",
   "execution_count": 69,
   "id": "379404ec",
   "metadata": {},
   "outputs": [
    {
     "data": {
      "text/plain": [
       "Name             object\n",
       "Author           object\n",
       "User Rating     float64\n",
       "Reviews           int64\n",
       "Price             int64\n",
       "Year              int64\n",
       "Genre          category\n",
       "dtype: object"
      ]
     },
     "execution_count": 69,
     "metadata": {},
     "output_type": "execute_result"
    }
   ],
   "source": [
    "bestsellers.dtypes"
   ]
  },
  {
   "cell_type": "code",
   "execution_count": 70,
   "id": "b919d02c",
   "metadata": {},
   "outputs": [
    {
     "data": {
      "text/plain": [
       "Index(['Name', 'Author', 'User Rating', 'Reviews', 'Price', 'Year', 'Genre'], dtype='object')"
      ]
     },
     "execution_count": 70,
     "metadata": {},
     "output_type": "execute_result"
    }
   ],
   "source": [
    "bestsellers.columns"
   ]
  },
  {
   "cell_type": "markdown",
   "id": "c0b859aa",
   "metadata": {},
   "source": [
    "calculate the blank and filled values for all columns\n"
   ]
  },
  {
   "cell_type": "code",
   "execution_count": 71,
   "id": "731bf3a5",
   "metadata": {},
   "outputs": [
    {
     "name": "stdout",
     "output_type": "stream",
     "text": [
      "Name -  0.0%\n",
      "Author -  0.0%\n",
      "User Rating -  0.0%\n",
      "Reviews -  0.0%\n",
      "Price -  0.0%\n",
      "Year -  0.0%\n",
      "Genre -  0.0%\n"
     ]
    }
   ],
   "source": [
    "for col in bestsellers.columns:\n",
    "    percent_missing = bestsellers[col].isnull().mean()\n",
    "    print(f'{col} - {percent_missing : .1%}')"
   ]
  },
  {
   "cell_type": "code",
   "execution_count": 72,
   "id": "53517ae4",
   "metadata": {},
   "outputs": [
    {
     "data": {
      "text/plain": [
       "199"
      ]
     },
     "execution_count": 72,
     "metadata": {},
     "output_type": "execute_result"
    }
   ],
   "source": [
    "bestsellers.duplicated(['Name' , 'Author' ,]).sum()"
   ]
  },
  {
   "cell_type": "code",
   "execution_count": 73,
   "id": "5aac28d0",
   "metadata": {},
   "outputs": [
    {
     "data": {
      "text/plain": [
       "Name           0\n",
       "Author         0\n",
       "User Rating    0\n",
       "Reviews        0\n",
       "Price          0\n",
       "Year           0\n",
       "Genre          0\n",
       "dtype: int64"
      ]
     },
     "execution_count": 73,
     "metadata": {},
     "output_type": "execute_result"
    }
   ],
   "source": [
    "bestsellers.isna().sum()"
   ]
  },
  {
   "cell_type": "code",
   "execution_count": 74,
   "id": "1b08c1a1",
   "metadata": {},
   "outputs": [
    {
     "data": {
      "text/plain": [
       "302"
      ]
     },
     "execution_count": 74,
     "metadata": {},
     "output_type": "execute_result"
    }
   ],
   "source": [
    "bestsellers['Author'].duplicated().sum()"
   ]
  },
  {
   "cell_type": "code",
   "execution_count": 75,
   "id": "d1184f5c",
   "metadata": {},
   "outputs": [],
   "source": [
    "Columns = bestsellers.columns.tolist()"
   ]
  },
  {
   "cell_type": "code",
   "execution_count": 76,
   "id": "d7fb76da",
   "metadata": {},
   "outputs": [
    {
     "data": {
      "text/plain": [
       "['Name', 'Author', 'User Rating', 'Reviews', 'Price', 'Year', 'Genre']"
      ]
     },
     "execution_count": 76,
     "metadata": {},
     "output_type": "execute_result"
    }
   ],
   "source": [
    "Columns"
   ]
  },
  {
   "cell_type": "code",
   "execution_count": 77,
   "id": "9f7929e7",
   "metadata": {},
   "outputs": [
    {
     "name": "stdout",
     "output_type": "stream",
     "text": [
      "Column Name contains duplicates.\n",
      "Column Author contains duplicates.\n",
      "Column User Rating contains duplicates.\n",
      "Column Reviews contains duplicates.\n",
      "Column Price contains duplicates.\n",
      "Column Year contains duplicates.\n",
      "Column Genre contains duplicates.\n"
     ]
    }
   ],
   "source": [
    "for col in Columns:\n",
    "    if bestsellers[col].duplicated().any() == True:\n",
    "         print (f'Column {col} contains duplicates.')\n",
    "    else:\n",
    "        print (f'Column {col} does not contain duplicates.')"
   ]
  },
  {
   "cell_type": "code",
   "execution_count": 78,
   "id": "56f03d36",
   "metadata": {},
   "outputs": [],
   "source": [
    "Authors = list(bestsellers['Author'].unique())"
   ]
  },
  {
   "cell_type": "code",
   "execution_count": 79,
   "id": "f302603d",
   "metadata": {},
   "outputs": [
    {
     "data": {
      "text/plain": [
       "['JJ Smith',\n",
       " 'Stephen King',\n",
       " 'Jordan B. Peterson',\n",
       " 'George Orwell',\n",
       " 'National Geographic Kids',\n",
       " 'George R. R. Martin',\n",
       " 'Amor Towles',\n",
       " 'James Comey',\n",
       " 'Fredrik Backman',\n",
       " 'Larry Schweikart',\n",
       " 'Jaycee Dugard',\n",
       " \"Madeleine L'Engle\",\n",
       " 'Steve Harvey',\n",
       " 'Adult Coloring Book Designs',\n",
       " 'Blue Star Coloring',\n",
       " 'Coloring Books for Adults',\n",
       " 'Ron Chernow',\n",
       " 'Anthony Doerr',\n",
       " 'Veronica Roth',\n",
       " 'Chris Kyle',\n",
       " 'Khaled Hosseini',\n",
       " 'Glenn Beck',\n",
       " 'Neil deGrasse Tyson',\n",
       " 'Mark Twain',\n",
       " 'DK',\n",
       " 'Angie Grace',\n",
       " 'Ina Garten',\n",
       " 'Michelle Obama',\n",
       " 'Atul Gawande',\n",
       " 'Ta-Nehisi Coates',\n",
       " 'Bruce Springsteen',\n",
       " 'Stephenie Meyer',\n",
       " 'Bill Martin Jr.',\n",
       " 'Jeff Kinney',\n",
       " \"Sasha O'Hara\",\n",
       " 'David Goggins',\n",
       " 'Thomas Piketty',\n",
       " 'Suzanne Collins',\n",
       " 'Chrissy Teigen',\n",
       " 'Francis Chan',\n",
       " 'Kevin Kwan',\n",
       " 'Marjorie Sarnat',\n",
       " 'Abraham Verghese',\n",
       " 'Brené Brown',\n",
       " 'Malcolm Gladwell',\n",
       " 'Charlaine Harris',\n",
       " 'Rod Campbell',\n",
       " 'George W. Bush',\n",
       " 'Tony Hsieh',\n",
       " 'American Psychiatric Association',\n",
       " 'M Prefontaine',\n",
       " 'Zhi Gang Sha',\n",
       " 'Dav Pilkey',\n",
       " 'Marty Noble',\n",
       " 'Daniel H. Pink',\n",
       " 'David Zinczenko',\n",
       " 'Joel Fuhrman MD',\n",
       " 'Tara Westover',\n",
       " 'Johanna Basford',\n",
       " 'Ray Bradbury',\n",
       " 'J.K. Rowling',\n",
       " 'Bob Woodward',\n",
       " 'E L James',\n",
       " 'Michael Wolff',\n",
       " 'Roger Priddy',\n",
       " 'Michael Pollan',\n",
       " 'RH Disney',\n",
       " 'John Heilemann',\n",
       " 'George R.R. Martin',\n",
       " 'Peter A. Lillback',\n",
       " 'Brian Kilmeade',\n",
       " 'Giles Andreae',\n",
       " 'Rachel Hollis',\n",
       " 'Harper Lee',\n",
       " 'Adam Mansbach',\n",
       " 'Sarah Palin',\n",
       " 'Gillian Flynn',\n",
       " 'Pretty Simple Press',\n",
       " 'Jim Collins',\n",
       " 'Margaret Wise Brown',\n",
       " 'Sherri Duskey Rinker',\n",
       " 'David Perlmutter MD',\n",
       " 'Raina Telgemeier',\n",
       " 'Lin-Manuel Miranda',\n",
       " 'Phil Robertson',\n",
       " 'J. K. Rowling',\n",
       " 'Scholastic',\n",
       " 'Mitch Albom',\n",
       " 'Todd Burpo',\n",
       " 'J. D. Vance',\n",
       " 'Joanna Gaines',\n",
       " 'Dale Carnegie',\n",
       " 'Howard Stern',\n",
       " 'Brandon Stanton',\n",
       " 'Allie Brosh',\n",
       " 'Hopscotch Girls',\n",
       " 'James Patterson',\n",
       " 'Ann Whitford Paul',\n",
       " 'Gayle Forman',\n",
       " 'Eric Larson',\n",
       " 'Dan Brown',\n",
       " 'Christopher Paolini',\n",
       " 'Jennifer Smith',\n",
       " 'Lysa TerKeurst',\n",
       " 'Sarah Young',\n",
       " 'David Grann',\n",
       " \"Bill O'Reilly\",\n",
       " 'Anthony Bourdain',\n",
       " 'Rob Elliott',\n",
       " 'Jill Twiss',\n",
       " 'Sheryl Sandberg',\n",
       " 'Walter Isaacson',\n",
       " 'Paper Peony Press',\n",
       " 'Mark R. Levin',\n",
       " 'Keith Richards',\n",
       " 'Chris Cleave',\n",
       " 'Alice Schertle',\n",
       " 'Celeste Ng',\n",
       " 'John Green',\n",
       " 'Rob Bell',\n",
       " 'Robert Munsch',\n",
       " 'Admiral William H. McRaven',\n",
       " 'Julia Child',\n",
       " 'Rupi Kaur',\n",
       " 'Adam Gasiewski',\n",
       " 'Carol S. Dweck',\n",
       " 'Crispin Boyer',\n",
       " 'Amy Shields',\n",
       " 'Elie Wiesel',\n",
       " 'Mark Owen',\n",
       " 'Pete Souza',\n",
       " 'Dr. Seuss',\n",
       " 'Elizabeth Strout',\n",
       " 'Ann Voskamp',\n",
       " 'Christina Baker Kline',\n",
       " 'Naomi Kleinberg',\n",
       " 'Rick Riordan',\n",
       " 'Wizards RPG Team',\n",
       " 'Eben Alexander',\n",
       " 'American Psychological Association',\n",
       " 'Golden Books',\n",
       " 'Susan Cain',\n",
       " 'David Platt',\n",
       " 'Ernest Cline',\n",
       " 'Rush Limbaugh',\n",
       " 'Samin Nosrat',\n",
       " 'Tatiana de Rosnay',\n",
       " 'School Zone',\n",
       " 'Justin Halpern',\n",
       " 'Tucker Carlson',\n",
       " 'Ian K. Smith M.D.',\n",
       " 'Nathan W. Pyle',\n",
       " 'Gallup',\n",
       " 'Steven D. Levitt',\n",
       " 'Chip Heath',\n",
       " 'John Grisham',\n",
       " 'Doug Lemov',\n",
       " 'Mike Moreno',\n",
       " 'Timothy Ferriss',\n",
       " 'Gary Chapman',\n",
       " 'W. Cleon Skousen',\n",
       " 'Stephen R. Covey',\n",
       " 'Paulo Coelho',\n",
       " 'Edward Klein',\n",
       " 'Garth Stein',\n",
       " 'Michael Lewis',\n",
       " 'Mark Hyman M.D.',\n",
       " 'Bessel van der Kolk M.D.',\n",
       " 'Bill Simmons',\n",
       " 'Markus Zusak',\n",
       " 'B. J. Novak',\n",
       " 'Daniel James Brown',\n",
       " 'Thomas Campbell',\n",
       " 'Amy Ramos',\n",
       " 'Delegates of the Constitutional\\x85',\n",
       " 'Jon Stewart',\n",
       " 'Drew Daywalt',\n",
       " 'Pierre Dukan',\n",
       " 'Muriel Barbery',\n",
       " 'Patrick Lencioni',\n",
       " 'Don Miguel Ruiz',\n",
       " 'Paula Hawkins',\n",
       " 'Stieg Larsson',\n",
       " 'Sandra Boynton',\n",
       " 'Donna Tartt',\n",
       " 'F. Scott Fitzgerald',\n",
       " 'Mary Ann Shaffer',\n",
       " 'Margaret Atwood',\n",
       " 'Jonathan Cahn',\n",
       " 'Angie Thomas',\n",
       " 'Kathryn Stockett',\n",
       " 'Rebecca Skloot',\n",
       " 'Laurel Randolph',\n",
       " 'Randy Pausch',\n",
       " 'Patrick Thorpe',\n",
       " 'Daniel Lipkowitz',\n",
       " 'Marie Kondō',\n",
       " 'Stephen Kendrick',\n",
       " 'Chip Gaines',\n",
       " 'Andy Weir',\n",
       " 'James Dashner',\n",
       " 'The Washington Post',\n",
       " 'Kristin Hannah',\n",
       " 'The College Board',\n",
       " 'Paula McLain',\n",
       " 'Ree Drummond',\n",
       " 'Dr. Steven R Gundry MD',\n",
       " 'Deborah Diesen',\n",
       " 'Charles Duhigg',\n",
       " 'F. A. Hayek',\n",
       " 'William P. Young',\n",
       " 'Alex Michaelides',\n",
       " 'Mark Manson',\n",
       " 'Audrey Niffenegger',\n",
       " 'Dave Ramsey',\n",
       " 'Dinah Bucholz',\n",
       " 'Eric Carle',\n",
       " 'Melissa Hartwig Urban',\n",
       " 'Emily Winfield Martin',\n",
       " 'Craig Smith',\n",
       " 'David McCullough',\n",
       " 'Charles Krauthammer',\n",
       " 'Daniel Kahneman',\n",
       " 'Jay Asher',\n",
       " 'Jon Meacham',\n",
       " 'Greg Mortenson',\n",
       " 'Thug Kitchen',\n",
       " 'Tina Fey',\n",
       " 'Robert Jordan',\n",
       " 'Edward M. Kennedy',\n",
       " 'Laura Hillenbrand',\n",
       " 'Silly Bear',\n",
       " 'Alan Moore',\n",
       " 'Sara Gruen',\n",
       " 'Hillary Rodham Clinton',\n",
       " 'Randall Munroe',\n",
       " 'Adir Levy',\n",
       " 'Heidi Murkoff',\n",
       " 'William Davis',\n",
       " 'Paul Kalanithi',\n",
       " 'Delia Owens',\n",
       " 'Maurice Sendak',\n",
       " 'The Staff of The Late Show with\\x85',\n",
       " 'Cheryl Strayed',\n",
       " 'Ken Follett',\n",
       " 'Geneen Roth',\n",
       " 'R. J. Palacio',\n",
       " 'Jen Sincero']"
      ]
     },
     "execution_count": 79,
     "metadata": {},
     "output_type": "execute_result"
    }
   ],
   "source": [
    "Authors"
   ]
  },
  {
   "cell_type": "code",
   "execution_count": 80,
   "id": "1bfd0bca",
   "metadata": {},
   "outputs": [
    {
     "name": "stdout",
     "output_type": "stream",
     "text": [
      "Requirement already satisfied: fuzzywuzzy in c:\\users\\dasar\\anaconda3\\lib\\site-packages (0.18.0)\n",
      "Note: you may need to restart the kernel to use updated packages.\n"
     ]
    }
   ],
   "source": [
    "pip install fuzzywuzzy"
   ]
  },
  {
   "cell_type": "code",
   "execution_count": 81,
   "id": "59f815a3",
   "metadata": {},
   "outputs": [],
   "source": [
    "import fuzzywuzzy\n",
    "from fuzzywuzzy import process\n",
    "from fuzzywuzzy import fuzz"
   ]
  },
  {
   "cell_type": "code",
   "execution_count": 82,
   "id": "50802f12",
   "metadata": {},
   "outputs": [
    {
     "data": {
      "text/plain": [
       "[('J.K. Rowling', 100),\n",
       " ('J. K. Rowling', 100),\n",
       " ('Mark Owen', 50),\n",
       " ('Mark Twain', 48),\n",
       " ('William P. Young', 46)]"
      ]
     },
     "execution_count": 82,
     "metadata": {},
     "output_type": "execute_result"
    }
   ],
   "source": [
    "matches_author_name = fuzzywuzzy.process.extract( 'J.K. Rowling', Authors,  scorer=fuzzywuzzy.fuzz.token_sort_ratio)\n",
    "matches_author_name"
   ]
  },
  {
   "cell_type": "code",
   "execution_count": 83,
   "id": "ff22040b",
   "metadata": {},
   "outputs": [],
   "source": [
    "df = pd.DataFrame(bestsellers['Author'].unique())"
   ]
  },
  {
   "cell_type": "code",
   "execution_count": 84,
   "id": "035f7cb0",
   "metadata": {},
   "outputs": [
    {
     "data": {
      "text/html": [
       "<div>\n",
       "<style scoped>\n",
       "    .dataframe tbody tr th:only-of-type {\n",
       "        vertical-align: middle;\n",
       "    }\n",
       "\n",
       "    .dataframe tbody tr th {\n",
       "        vertical-align: top;\n",
       "    }\n",
       "\n",
       "    .dataframe thead th {\n",
       "        text-align: right;\n",
       "    }\n",
       "</style>\n",
       "<table border=\"1\" class=\"dataframe\">\n",
       "  <thead>\n",
       "    <tr style=\"text-align: right;\">\n",
       "      <th></th>\n",
       "      <th>0</th>\n",
       "    </tr>\n",
       "  </thead>\n",
       "  <tbody>\n",
       "    <tr>\n",
       "      <th>0</th>\n",
       "      <td>JJ Smith</td>\n",
       "    </tr>\n",
       "    <tr>\n",
       "      <th>1</th>\n",
       "      <td>Stephen King</td>\n",
       "    </tr>\n",
       "    <tr>\n",
       "      <th>2</th>\n",
       "      <td>Jordan B. Peterson</td>\n",
       "    </tr>\n",
       "    <tr>\n",
       "      <th>3</th>\n",
       "      <td>George Orwell</td>\n",
       "    </tr>\n",
       "    <tr>\n",
       "      <th>4</th>\n",
       "      <td>National Geographic Kids</td>\n",
       "    </tr>\n",
       "    <tr>\n",
       "      <th>...</th>\n",
       "      <td>...</td>\n",
       "    </tr>\n",
       "    <tr>\n",
       "      <th>243</th>\n",
       "      <td>Cheryl Strayed</td>\n",
       "    </tr>\n",
       "    <tr>\n",
       "      <th>244</th>\n",
       "      <td>Ken Follett</td>\n",
       "    </tr>\n",
       "    <tr>\n",
       "      <th>245</th>\n",
       "      <td>Geneen Roth</td>\n",
       "    </tr>\n",
       "    <tr>\n",
       "      <th>246</th>\n",
       "      <td>R. J. Palacio</td>\n",
       "    </tr>\n",
       "    <tr>\n",
       "      <th>247</th>\n",
       "      <td>Jen Sincero</td>\n",
       "    </tr>\n",
       "  </tbody>\n",
       "</table>\n",
       "<p>248 rows × 1 columns</p>\n",
       "</div>"
      ],
      "text/plain": [
       "                            0\n",
       "0                    JJ Smith\n",
       "1                Stephen King\n",
       "2          Jordan B. Peterson\n",
       "3               George Orwell\n",
       "4    National Geographic Kids\n",
       "..                        ...\n",
       "243            Cheryl Strayed\n",
       "244               Ken Follett\n",
       "245               Geneen Roth\n",
       "246             R. J. Palacio\n",
       "247               Jen Sincero\n",
       "\n",
       "[248 rows x 1 columns]"
      ]
     },
     "execution_count": 84,
     "metadata": {},
     "output_type": "execute_result"
    }
   ],
   "source": [
    "df"
   ]
  },
  {
   "cell_type": "code",
   "execution_count": 85,
   "id": "e15cd81a",
   "metadata": {},
   "outputs": [],
   "source": [
    "from IPython.core.interactiveshell import InteractiveShell\n",
    "\n",
    "InteractiveShell.ast_node_interactivity = \"all\""
   ]
  },
  {
   "cell_type": "code",
   "execution_count": 86,
   "id": "d711dab6",
   "metadata": {},
   "outputs": [],
   "source": [
    "Authors1 = list(bestsellers['Author'].unique())\n",
    "Authors2 = list(bestsellers['Author'].unique())\n",
    "  \n",
    "# taking the threshold as 80\n",
    "threshold = 80"
   ]
  },
  {
   "cell_type": "markdown",
   "id": "5c049006",
   "metadata": {},
   "source": [
    "Let us check whether the same author names have different spellings "
   ]
  },
  {
   "cell_type": "code",
   "execution_count": 87,
   "id": "07949f9b",
   "metadata": {},
   "outputs": [
    {
     "name": "stdout",
     "output_type": "stream",
     "text": [
      "\n",
      "DataFrame after Fuzzy matching:\n"
     ]
    },
    {
     "data": {
      "text/html": [
       "<div>\n",
       "<style scoped>\n",
       "    .dataframe tbody tr th:only-of-type {\n",
       "        vertical-align: middle;\n",
       "    }\n",
       "\n",
       "    .dataframe tbody tr th {\n",
       "        vertical-align: top;\n",
       "    }\n",
       "\n",
       "    .dataframe thead th {\n",
       "        text-align: right;\n",
       "    }\n",
       "</style>\n",
       "<table border=\"1\" class=\"dataframe\">\n",
       "  <thead>\n",
       "    <tr style=\"text-align: right;\">\n",
       "      <th></th>\n",
       "      <th>0</th>\n",
       "      <th>matches</th>\n",
       "    </tr>\n",
       "  </thead>\n",
       "  <tbody>\n",
       "    <tr>\n",
       "      <th>0</th>\n",
       "      <td>JJ Smith</td>\n",
       "      <td>JJ Smith</td>\n",
       "    </tr>\n",
       "    <tr>\n",
       "      <th>1</th>\n",
       "      <td>Stephen King</td>\n",
       "      <td>Stephen King</td>\n",
       "    </tr>\n",
       "    <tr>\n",
       "      <th>2</th>\n",
       "      <td>Jordan B. Peterson</td>\n",
       "      <td>Jordan B. Peterson</td>\n",
       "    </tr>\n",
       "    <tr>\n",
       "      <th>3</th>\n",
       "      <td>George Orwell</td>\n",
       "      <td>George Orwell</td>\n",
       "    </tr>\n",
       "    <tr>\n",
       "      <th>4</th>\n",
       "      <td>National Geographic Kids</td>\n",
       "      <td>National Geographic Kids</td>\n",
       "    </tr>\n",
       "    <tr>\n",
       "      <th>...</th>\n",
       "      <td>...</td>\n",
       "      <td>...</td>\n",
       "    </tr>\n",
       "    <tr>\n",
       "      <th>243</th>\n",
       "      <td>Cheryl Strayed</td>\n",
       "      <td>Cheryl Strayed</td>\n",
       "    </tr>\n",
       "    <tr>\n",
       "      <th>244</th>\n",
       "      <td>Ken Follett</td>\n",
       "      <td>Ken Follett</td>\n",
       "    </tr>\n",
       "    <tr>\n",
       "      <th>245</th>\n",
       "      <td>Geneen Roth</td>\n",
       "      <td>Geneen Roth</td>\n",
       "    </tr>\n",
       "    <tr>\n",
       "      <th>246</th>\n",
       "      <td>R. J. Palacio</td>\n",
       "      <td>R. J. Palacio</td>\n",
       "    </tr>\n",
       "    <tr>\n",
       "      <th>247</th>\n",
       "      <td>Jen Sincero</td>\n",
       "      <td>Jen Sincero</td>\n",
       "    </tr>\n",
       "  </tbody>\n",
       "</table>\n",
       "<p>248 rows × 2 columns</p>\n",
       "</div>"
      ],
      "text/plain": [
       "                            0                   matches\n",
       "0                    JJ Smith                  JJ Smith\n",
       "1                Stephen King              Stephen King\n",
       "2          Jordan B. Peterson        Jordan B. Peterson\n",
       "3               George Orwell             George Orwell\n",
       "4    National Geographic Kids  National Geographic Kids\n",
       "..                        ...                       ...\n",
       "243            Cheryl Strayed            Cheryl Strayed\n",
       "244               Ken Follett               Ken Follett\n",
       "245               Geneen Roth               Geneen Roth\n",
       "246             R. J. Palacio             R. J. Palacio\n",
       "247               Jen Sincero               Jen Sincero\n",
       "\n",
       "[248 rows x 2 columns]"
      ]
     },
     "execution_count": 87,
     "metadata": {},
     "output_type": "execute_result"
    }
   ],
   "source": [
    "mat1 = []\n",
    "mat2 = []\n",
    "p = []\n",
    "for i in Authors1:\n",
    "    mat1.append(process.extract(i, Authors2, limit = 4,  scorer=fuzz.token_sort_ratio))\n",
    "df['matches'] = mat1\n",
    "  \n",
    "# iterating through the closest matches\n",
    "# to filter out the maximum closest match\n",
    "for j in df['matches']:\n",
    "    for k in j:\n",
    "        if k[1] >= threshold:\n",
    "            p.append(k[0])\n",
    "    mat2.append(\",\".join(p))\n",
    "    p = []\n",
    "  \n",
    "  \n",
    "# storing the resultant matches back to dframe1\n",
    "df['matches'] = mat2\n",
    "print(\"\\nDataFrame after Fuzzy matching:\")\n",
    "df"
   ]
  },
  {
   "cell_type": "code",
   "execution_count": 88,
   "id": "a3b7cfe8",
   "metadata": {},
   "outputs": [
    {
     "data": {
      "text/plain": [
       "J.K. Rowling,J. K. Rowling                2\n",
       "George R. R. Martin,George R.R. Martin    2\n",
       "JJ Smith                                  1\n",
       "Michael Lewis                             1\n",
       "B. J. Novak                               1\n",
       "                                         ..\n",
       "J. D. Vance                               1\n",
       "Joanna Gaines                             1\n",
       "Dale Carnegie                             1\n",
       "Howard Stern                              1\n",
       "Jen Sincero                               1\n",
       "Name: matches, Length: 246, dtype: int64"
      ]
     },
     "execution_count": 88,
     "metadata": {},
     "output_type": "execute_result"
    }
   ],
   "source": [
    "df['matches'].value_counts()"
   ]
  },
  {
   "cell_type": "markdown",
   "id": "8764a8dd",
   "metadata": {},
   "source": [
    "Names of two authors George R.R. Martin and J.K. Rowling have two different spellings. Let's replace them."
   ]
  },
  {
   "cell_type": "code",
   "execution_count": 89,
   "id": "23c20bdb",
   "metadata": {},
   "outputs": [],
   "source": [
    "bestsellers = bestsellers.replace('George R. R. Martin', 'George R.R. Martin')\n",
    "bestsellers = bestsellers.replace('J. K. Rowling', 'J.K. Rowling')"
   ]
  },
  {
   "cell_type": "code",
   "execution_count": 90,
   "id": "8cc490e7",
   "metadata": {},
   "outputs": [],
   "source": [
    "del bestsellers['Year']"
   ]
  },
  {
   "cell_type": "code",
   "execution_count": 91,
   "id": "b03a05b4",
   "metadata": {},
   "outputs": [
    {
     "name": "stdout",
     "output_type": "stream",
     "text": [
      "<class 'pandas.core.frame.DataFrame'>\n",
      "Int64Index: 361 entries, 0 to 546\n",
      "Data columns (total 6 columns):\n",
      " #   Column       Non-Null Count  Dtype   \n",
      "---  ------       --------------  -----   \n",
      " 0   Name         361 non-null    object  \n",
      " 1   Author       361 non-null    object  \n",
      " 2   User Rating  361 non-null    float64 \n",
      " 3   Reviews      361 non-null    int64   \n",
      " 4   Price        361 non-null    int64   \n",
      " 5   Genre        361 non-null    category\n",
      "dtypes: category(1), float64(1), int64(2), object(2)\n",
      "memory usage: 17.4+ KB\n"
     ]
    }
   ],
   "source": [
    "bestsellers = bestsellers.drop_duplicates(keep='first')\n",
    "bestsellers.info()"
   ]
  },
  {
   "cell_type": "code",
   "execution_count": 92,
   "id": "fd97d95d",
   "metadata": {},
   "outputs": [
    {
     "data": {
      "text/plain": [
       "The Help                                                                                   3\n",
       "The Immortal Life of Henrietta Lacks                                                       2\n",
       "Gone Girl                                                                                  2\n",
       "To Kill a Mockingbird                                                                      2\n",
       "The Fault in Our Stars                                                                     2\n",
       "                                                                                          ..\n",
       "Harry Potter and the Goblet of Fire: The Illustrated Edition (Harry Potter, Book 4) (4)    1\n",
       "Harry Potter and the Cursed Child, Parts 1 & 2, Special Rehearsal Edition Script           1\n",
       "Harry Potter and the Chamber of Secrets: The Illustrated Edition (Harry Potter, Book 2)    1\n",
       "Happy, Happy, Happy: My Life and Legacy as the Duck Commander                              1\n",
       "You Are a Badass: How to Stop Doubting Your Greatness and Start Living an Awesome Life     1\n",
       "Name: Name, Length: 351, dtype: int64"
      ]
     },
     "execution_count": 92,
     "metadata": {},
     "output_type": "execute_result"
    }
   ],
   "source": [
    "bestsellers['Name'].value_counts()"
   ]
  },
  {
   "cell_type": "code",
   "execution_count": 123,
   "id": "e26ba196",
   "metadata": {},
   "outputs": [
    {
     "data": {
      "text/html": [
       "<div>\n",
       "<style scoped>\n",
       "    .dataframe tbody tr th:only-of-type {\n",
       "        vertical-align: middle;\n",
       "    }\n",
       "\n",
       "    .dataframe tbody tr th {\n",
       "        vertical-align: top;\n",
       "    }\n",
       "\n",
       "    .dataframe thead th {\n",
       "        text-align: right;\n",
       "    }\n",
       "</style>\n",
       "<table border=\"1\" class=\"dataframe\">\n",
       "  <thead>\n",
       "    <tr style=\"text-align: right;\">\n",
       "      <th></th>\n",
       "      <th>Name</th>\n",
       "      <th>Author</th>\n",
       "      <th>User Rating</th>\n",
       "      <th>Reviews</th>\n",
       "      <th>Price</th>\n",
       "      <th>Genre</th>\n",
       "    </tr>\n",
       "  </thead>\n",
       "  <tbody>\n",
       "    <tr>\n",
       "      <th>0</th>\n",
       "      <td>10-Day Green Smoothie Cleanse</td>\n",
       "      <td>JJ Smith</td>\n",
       "      <td>4.7</td>\n",
       "      <td>17350</td>\n",
       "      <td>8</td>\n",
       "      <td>Non Fiction</td>\n",
       "    </tr>\n",
       "    <tr>\n",
       "      <th>1</th>\n",
       "      <td>11/22/63: A Novel</td>\n",
       "      <td>Stephen King</td>\n",
       "      <td>4.6</td>\n",
       "      <td>2052</td>\n",
       "      <td>22</td>\n",
       "      <td>Fiction</td>\n",
       "    </tr>\n",
       "    <tr>\n",
       "      <th>2</th>\n",
       "      <td>12 Rules for Life: An Antidote to Chaos</td>\n",
       "      <td>Jordan B. Peterson</td>\n",
       "      <td>4.7</td>\n",
       "      <td>18979</td>\n",
       "      <td>15</td>\n",
       "      <td>Non Fiction</td>\n",
       "    </tr>\n",
       "    <tr>\n",
       "      <th>3</th>\n",
       "      <td>1984 (Signet Classics)</td>\n",
       "      <td>George Orwell</td>\n",
       "      <td>4.7</td>\n",
       "      <td>21424</td>\n",
       "      <td>6</td>\n",
       "      <td>Fiction</td>\n",
       "    </tr>\n",
       "    <tr>\n",
       "      <th>4</th>\n",
       "      <td>5,000 Awesome Facts (About Everything!) (Natio...</td>\n",
       "      <td>National Geographic Kids</td>\n",
       "      <td>4.8</td>\n",
       "      <td>7665</td>\n",
       "      <td>12</td>\n",
       "      <td>Non Fiction</td>\n",
       "    </tr>\n",
       "    <tr>\n",
       "      <th>...</th>\n",
       "      <td>...</td>\n",
       "      <td>...</td>\n",
       "      <td>...</td>\n",
       "      <td>...</td>\n",
       "      <td>...</td>\n",
       "      <td>...</td>\n",
       "    </tr>\n",
       "    <tr>\n",
       "      <th>538</th>\n",
       "      <td>Winter of the World: Book Two of the Century T...</td>\n",
       "      <td>Ken Follett</td>\n",
       "      <td>4.5</td>\n",
       "      <td>10760</td>\n",
       "      <td>15</td>\n",
       "      <td>Fiction</td>\n",
       "    </tr>\n",
       "    <tr>\n",
       "      <th>539</th>\n",
       "      <td>Women Food and God: An Unexpected Path to Almo...</td>\n",
       "      <td>Geneen Roth</td>\n",
       "      <td>4.2</td>\n",
       "      <td>1302</td>\n",
       "      <td>11</td>\n",
       "      <td>Non Fiction</td>\n",
       "    </tr>\n",
       "    <tr>\n",
       "      <th>540</th>\n",
       "      <td>Wonder</td>\n",
       "      <td>R. J. Palacio</td>\n",
       "      <td>4.8</td>\n",
       "      <td>21625</td>\n",
       "      <td>9</td>\n",
       "      <td>Fiction</td>\n",
       "    </tr>\n",
       "    <tr>\n",
       "      <th>545</th>\n",
       "      <td>Wrecking Ball (Diary of a Wimpy Kid Book 14)</td>\n",
       "      <td>Jeff Kinney</td>\n",
       "      <td>4.9</td>\n",
       "      <td>9413</td>\n",
       "      <td>8</td>\n",
       "      <td>Fiction</td>\n",
       "    </tr>\n",
       "    <tr>\n",
       "      <th>546</th>\n",
       "      <td>You Are a Badass: How to Stop Doubting Your Gr...</td>\n",
       "      <td>Jen Sincero</td>\n",
       "      <td>4.7</td>\n",
       "      <td>14331</td>\n",
       "      <td>8</td>\n",
       "      <td>Non Fiction</td>\n",
       "    </tr>\n",
       "  </tbody>\n",
       "</table>\n",
       "<p>351 rows × 6 columns</p>\n",
       "</div>"
      ],
      "text/plain": [
       "                                                  Name  \\\n",
       "0                        10-Day Green Smoothie Cleanse   \n",
       "1                                    11/22/63: A Novel   \n",
       "2              12 Rules for Life: An Antidote to Chaos   \n",
       "3                               1984 (Signet Classics)   \n",
       "4    5,000 Awesome Facts (About Everything!) (Natio...   \n",
       "..                                                 ...   \n",
       "538  Winter of the World: Book Two of the Century T...   \n",
       "539  Women Food and God: An Unexpected Path to Almo...   \n",
       "540                                             Wonder   \n",
       "545       Wrecking Ball (Diary of a Wimpy Kid Book 14)   \n",
       "546  You Are a Badass: How to Stop Doubting Your Gr...   \n",
       "\n",
       "                       Author  User Rating  Reviews  Price        Genre  \n",
       "0                    JJ Smith          4.7    17350      8  Non Fiction  \n",
       "1                Stephen King          4.6     2052     22      Fiction  \n",
       "2          Jordan B. Peterson          4.7    18979     15  Non Fiction  \n",
       "3               George Orwell          4.7    21424      6      Fiction  \n",
       "4    National Geographic Kids          4.8     7665     12  Non Fiction  \n",
       "..                        ...          ...      ...    ...          ...  \n",
       "538               Ken Follett          4.5    10760     15      Fiction  \n",
       "539               Geneen Roth          4.2     1302     11  Non Fiction  \n",
       "540             R. J. Palacio          4.8    21625      9      Fiction  \n",
       "545               Jeff Kinney          4.9     9413      8      Fiction  \n",
       "546               Jen Sincero          4.7    14331      8  Non Fiction  \n",
       "\n",
       "[351 rows x 6 columns]"
      ]
     },
     "execution_count": 123,
     "metadata": {},
     "output_type": "execute_result"
    }
   ],
   "source": [
    "bestsellers2 = bestsellers.drop_duplicates(subset='Name', keep='last')\n",
    "bestsellers2"
   ]
  },
  {
   "cell_type": "code",
   "execution_count": 124,
   "id": "2ec510e3",
   "metadata": {},
   "outputs": [],
   "source": [
    "#Top 10 Authors\n",
    "Top_10_Authors = bestsellers2.groupby(['Author' , 'Genre'])['User Rating'].mean().nlargest(10) "
   ]
  },
  {
   "cell_type": "code",
   "execution_count": 125,
   "id": "9d937a3d",
   "metadata": {},
   "outputs": [
    {
     "data": {
      "text/plain": [
       "Author                 Genre      \n",
       "Alice Schertle         Fiction        4.9\n",
       "Bill Martin Jr.        Fiction        4.9\n",
       "Chip Gaines            Non Fiction    4.9\n",
       "Dav Pilkey             Fiction        4.9\n",
       "Emily Winfield Martin  Fiction        4.9\n",
       "Eric Carle             Fiction        4.9\n",
       "Jill Twiss             Fiction        4.9\n",
       "Lin-Manuel Miranda     Non Fiction    4.9\n",
       "Nathan W. Pyle         Fiction        4.9\n",
       "Patrick Thorpe         Fiction        4.9\n",
       "Name: User Rating, dtype: float64"
      ]
     },
     "execution_count": 125,
     "metadata": {},
     "output_type": "execute_result"
    }
   ],
   "source": [
    "Top_10_Authors"
   ]
  },
  {
   "cell_type": "code",
   "execution_count": 126,
   "id": "c9f505f1",
   "metadata": {},
   "outputs": [],
   "source": [
    "Top_10_Authors_with_number_of_books_written = bestsellers2.groupby('Author')['Name'].count().nlargest(10)"
   ]
  },
  {
   "cell_type": "code",
   "execution_count": 127,
   "id": "e0de57d8",
   "metadata": {},
   "outputs": [
    {
     "data": {
      "text/plain": [
       "Author\n",
       "Jeff Kinney         12\n",
       "Rick Riordan        10\n",
       "J.K. Rowling         8\n",
       "Stephenie Meyer      7\n",
       "Bill O'Reilly        6\n",
       "Dav Pilkey           6\n",
       "E L James            5\n",
       "John Grisham         5\n",
       "Suzanne Collins      5\n",
       "Charlaine Harris     4\n",
       "Name: Name, dtype: int64"
      ]
     },
     "execution_count": 127,
     "metadata": {},
     "output_type": "execute_result"
    }
   ],
   "source": [
    "Top_10_Authors_with_number_of_books_written"
   ]
  },
  {
   "cell_type": "code",
   "execution_count": 128,
   "id": "faaebaaa",
   "metadata": {},
   "outputs": [],
   "source": [
    "Total_Books_by_Genre = bestsellers2.groupby('Genre')['Name'] . count() "
   ]
  },
  {
   "cell_type": "code",
   "execution_count": 129,
   "id": "78c643af",
   "metadata": {},
   "outputs": [
    {
     "data": {
      "text/plain": [
       "Genre\n",
       "Fiction        160\n",
       "Non Fiction    191\n",
       "Name: Name, dtype: int64"
      ]
     },
     "execution_count": 129,
     "metadata": {},
     "output_type": "execute_result"
    }
   ],
   "source": [
    "Total_Books_by_Genre"
   ]
  },
  {
   "cell_type": "code",
   "execution_count": 100,
   "id": "b4e7c1b9",
   "metadata": {},
   "outputs": [
    {
     "data": {
      "text/plain": [
       "<Figure size 1200x600 with 0 Axes>"
      ]
     },
     "execution_count": 100,
     "metadata": {},
     "output_type": "execute_result"
    },
    {
     "data": {
      "image/png": "[encoded data removed]",
      "text/plain": [
       "<Figure size 1200x600 with 1 Axes>"
      ]
     },
     "metadata": {},
     "output_type": "display_data"
    }
   ],
   "source": [
    "plt.figure(figsize=(12,6))\n",
    "plots = sns.countplot(x = 'Genre' , data = bestsellers)\n"
   ]
  },
  {
   "cell_type": "code",
   "execution_count": 101,
   "id": "8b5322f9",
   "metadata": {},
   "outputs": [
    {
     "data": {
      "text/plain": [
       "Genre\n",
       "Fiction        12.093750\n",
       "Non Fiction    13.701571\n",
       "Name: Price, dtype: float64"
      ]
     },
     "execution_count": 101,
     "metadata": {},
     "output_type": "execute_result"
    }
   ],
   "source": [
    "bestsellers.groupby(['Genre'])['Price'].mean() "
   ]
  },
  {
   "cell_type": "code",
   "execution_count": 130,
   "id": "8ef65980",
   "metadata": {},
   "outputs": [
    {
     "data": {
      "text/html": [
       "<div>\n",
       "<style scoped>\n",
       "    .dataframe tbody tr th:only-of-type {\n",
       "        vertical-align: middle;\n",
       "    }\n",
       "\n",
       "    .dataframe tbody tr th {\n",
       "        vertical-align: top;\n",
       "    }\n",
       "\n",
       "    .dataframe thead th {\n",
       "        text-align: right;\n",
       "    }\n",
       "</style>\n",
       "<table border=\"1\" class=\"dataframe\">\n",
       "  <thead>\n",
       "    <tr style=\"text-align: right;\">\n",
       "      <th></th>\n",
       "      <th>User Rating</th>\n",
       "      <th>Reviews</th>\n",
       "      <th>Price</th>\n",
       "    </tr>\n",
       "  </thead>\n",
       "  <tbody>\n",
       "    <tr>\n",
       "      <th>User Rating</th>\n",
       "      <td>1.000000</td>\n",
       "      <td>-0.056105</td>\n",
       "      <td>-0.026408</td>\n",
       "    </tr>\n",
       "    <tr>\n",
       "      <th>Reviews</th>\n",
       "      <td>-0.056105</td>\n",
       "      <td>1.000000</td>\n",
       "      <td>-0.048029</td>\n",
       "    </tr>\n",
       "    <tr>\n",
       "      <th>Price</th>\n",
       "      <td>-0.026408</td>\n",
       "      <td>-0.048029</td>\n",
       "      <td>1.000000</td>\n",
       "    </tr>\n",
       "  </tbody>\n",
       "</table>\n",
       "</div>"
      ],
      "text/plain": [
       "             User Rating   Reviews     Price\n",
       "User Rating     1.000000 -0.056105 -0.026408\n",
       "Reviews        -0.056105  1.000000 -0.048029\n",
       "Price          -0.026408 -0.048029  1.000000"
      ]
     },
     "execution_count": 130,
     "metadata": {},
     "output_type": "execute_result"
    }
   ],
   "source": [
    "bestsellers2.corr()"
   ]
  },
  {
   "cell_type": "code",
   "execution_count": 131,
   "id": "1137927f",
   "metadata": {},
   "outputs": [
    {
     "data": {
      "text/html": [
       "<div>\n",
       "<style scoped>\n",
       "    .dataframe tbody tr th:only-of-type {\n",
       "        vertical-align: middle;\n",
       "    }\n",
       "\n",
       "    .dataframe tbody tr th {\n",
       "        vertical-align: top;\n",
       "    }\n",
       "\n",
       "    .dataframe thead th {\n",
       "        text-align: right;\n",
       "    }\n",
       "</style>\n",
       "<table border=\"1\" class=\"dataframe\">\n",
       "  <thead>\n",
       "    <tr style=\"text-align: right;\">\n",
       "      <th></th>\n",
       "      <th>User Rating</th>\n",
       "      <th>Reviews</th>\n",
       "      <th>Price</th>\n",
       "    </tr>\n",
       "  </thead>\n",
       "  <tbody>\n",
       "    <tr>\n",
       "      <th>count</th>\n",
       "      <td>351.000000</td>\n",
       "      <td>351.000000</td>\n",
       "      <td>351.000000</td>\n",
       "    </tr>\n",
       "    <tr>\n",
       "      <th>mean</th>\n",
       "      <td>4.609117</td>\n",
       "      <td>9786.578348</td>\n",
       "      <td>12.968661</td>\n",
       "    </tr>\n",
       "    <tr>\n",
       "      <th>std</th>\n",
       "      <td>0.226721</td>\n",
       "      <td>10874.702548</td>\n",
       "      <td>10.021214</td>\n",
       "    </tr>\n",
       "    <tr>\n",
       "      <th>min</th>\n",
       "      <td>3.300000</td>\n",
       "      <td>37.000000</td>\n",
       "      <td>0.000000</td>\n",
       "    </tr>\n",
       "    <tr>\n",
       "      <th>25%</th>\n",
       "      <td>4.500000</td>\n",
       "      <td>3442.500000</td>\n",
       "      <td>7.500000</td>\n",
       "    </tr>\n",
       "    <tr>\n",
       "      <th>50%</th>\n",
       "      <td>4.600000</td>\n",
       "      <td>6310.000000</td>\n",
       "      <td>11.000000</td>\n",
       "    </tr>\n",
       "    <tr>\n",
       "      <th>75%</th>\n",
       "      <td>4.800000</td>\n",
       "      <td>11470.500000</td>\n",
       "      <td>16.000000</td>\n",
       "    </tr>\n",
       "    <tr>\n",
       "      <th>max</th>\n",
       "      <td>4.900000</td>\n",
       "      <td>87841.000000</td>\n",
       "      <td>105.000000</td>\n",
       "    </tr>\n",
       "  </tbody>\n",
       "</table>\n",
       "</div>"
      ],
      "text/plain": [
       "       User Rating       Reviews       Price\n",
       "count   351.000000    351.000000  351.000000\n",
       "mean      4.609117   9786.578348   12.968661\n",
       "std       0.226721  10874.702548   10.021214\n",
       "min       3.300000     37.000000    0.000000\n",
       "25%       4.500000   3442.500000    7.500000\n",
       "50%       4.600000   6310.000000   11.000000\n",
       "75%       4.800000  11470.500000   16.000000\n",
       "max       4.900000  87841.000000  105.000000"
      ]
     },
     "execution_count": 131,
     "metadata": {},
     "output_type": "execute_result"
    }
   ],
   "source": [
    "bestsellers2.describe()"
   ]
  },
  {
   "cell_type": "markdown",
   "id": "ab934137",
   "metadata": {},
   "source": [
    "## Hypothesis Testing"
   ]
  },
  {
   "cell_type": "code",
   "execution_count": 104,
   "id": "728b77cc",
   "metadata": {},
   "outputs": [],
   "source": [
    "from scipy.stats import shapiro "
   ]
  },
  {
   "cell_type": "code",
   "execution_count": 132,
   "id": "f340d7ff",
   "metadata": {},
   "outputs": [
    {
     "data": {
      "text/plain": [
       "ShapiroResult(statistic=0.8770135641098022, pvalue=4.0170413115571066e-16)"
      ]
     },
     "execution_count": 132,
     "metadata": {},
     "output_type": "execute_result"
    }
   ],
   "source": [
    "shapiro(bestsellers2['User Rating'])"
   ]
  },
  {
   "cell_type": "code",
   "execution_count": 133,
   "id": "98403116",
   "metadata": {},
   "outputs": [
    {
     "data": {
      "text/plain": [
       "ShapiroResult(statistic=0.7017767429351807, pvalue=1.682650566028186e-24)"
      ]
     },
     "execution_count": 133,
     "metadata": {},
     "output_type": "execute_result"
    },
    {
     "data": {
      "text/plain": [
       "ShapiroResult(statistic=0.6995877027511597, pvalue=1.409200807918506e-24)"
      ]
     },
     "execution_count": 133,
     "metadata": {},
     "output_type": "execute_result"
    }
   ],
   "source": [
    "shapiro(bestsellers2['Reviews'])\n",
    "shapiro(bestsellers2['Price'])"
   ]
  },
  {
   "cell_type": "code",
   "execution_count": 134,
   "id": "0331ff5b",
   "metadata": {},
   "outputs": [
    {
     "name": "stdout",
     "output_type": "stream",
     "text": [
      "Statistic: 0.877\n",
      "P-Value: 0.00000000000000040170\n",
      "Reject H0 - Data is not distributed normally.\n"
     ]
    }
   ],
   "source": [
    "alpha=0.05\n",
    "\n",
    "stat, pval = shapiro(bestsellers2['User Rating'])\n",
    "\n",
    "print('Statistic:', f'{stat:.3f}')\n",
    "print('P-Value:', f'{pval:.20f}')\n",
    "    \n",
    "if pval > alpha:\n",
    "    print('Accept H0 - Data is distributed normally.')\n",
    "if pval < alpha:\n",
    "    print('Reject H0 - Data is not distributed normally.')"
   ]
  },
  {
   "cell_type": "code",
   "execution_count": 135,
   "id": "0a728a91",
   "metadata": {},
   "outputs": [],
   "source": [
    "non_fiction = bestsellers2[bestsellers2['Genre'] == 'Non Fiction']['User Rating']\n",
    "fiction = bestsellers2[bestsellers2['Genre'] == 'Fiction']['User Rating']"
   ]
  },
  {
   "cell_type": "code",
   "execution_count": 136,
   "id": "8b78d300",
   "metadata": {},
   "outputs": [],
   "source": [
    "from scipy.stats import mannwhitneyu"
   ]
  },
  {
   "cell_type": "code",
   "execution_count": 137,
   "id": "803ae531",
   "metadata": {},
   "outputs": [
    {
     "name": "stdout",
     "output_type": "stream",
     "text": [
      "Statistic: 13095.000\n",
      "P-Value: 0.01922648186850501456\n",
      "Reject H0 - There are significant differences between the groups.\n"
     ]
    }
   ],
   "source": [
    "alpha=0.05\n",
    "\n",
    "stat, pval = mannwhitneyu(non_fiction, fiction)\n",
    "\n",
    "print('Statistic:', f'{stat:.3f}')\n",
    "print('P-Value:', f'{pval:.20f}')\n",
    " \n",
    "if pval > alpha:\n",
    "    print('Accept H0 - There is no significant difference between the groups.')\n",
    "if pval < alpha:\n",
    "    print('Reject H0 - There are significant differences between the groups.')"
   ]
  },
  {
   "cell_type": "code",
   "execution_count": 138,
   "id": "47b5f747",
   "metadata": {},
   "outputs": [],
   "source": [
    "non_fiction1 = bestsellers2[bestsellers2['Genre'] == 'Non Fiction']['Price']\n",
    "fiction1 = bestsellers2[bestsellers2['Genre'] == 'Fiction']['Price']"
   ]
  },
  {
   "cell_type": "code",
   "execution_count": 139,
   "id": "6ff211a8",
   "metadata": {},
   "outputs": [
    {
     "name": "stdout",
     "output_type": "stream",
     "text": [
      "Statistic: 17533.500\n",
      "P-Value: 0.01717177238770897438\n",
      "Reject H0 - There are significant differences between the groups.\n"
     ]
    }
   ],
   "source": [
    "alpha=0.05\n",
    "\n",
    "stat, pval = mannwhitneyu(non_fiction1, fiction1)\n",
    "\n",
    "print('Statistic:', f'{stat:.3f}')\n",
    "print('P-Value:', f'{pval:.20f}')\n",
    " \n",
    "if pval > alpha:\n",
    "    print('Accept H0 - There is no significant difference between the groups.')\n",
    "if pval < alpha:\n",
    "    print('Reject H0 - There are significant differences between the groups.')"
   ]
  },
  {
   "cell_type": "markdown",
   "id": "444b256d",
   "metadata": {},
   "source": [
    "We have sufficient evidence to say that the prices of samples are different."
   ]
  },
  {
   "cell_type": "code",
   "execution_count": 140,
   "id": "cab1b4f1",
   "metadata": {},
   "outputs": [
    {
     "data": {
      "text/plain": [
       "'Name,Author,User Rating,Reviews,Price,Genre\\r\\n10-Day Green Smoothie Cleanse,JJ Smith,4.7,17350,8,Non Fiction\\r\\n11/22/63: A Novel,Stephen King,4.6,2052,22,Fiction\\r\\n12 Rules for Life: An Antidote to Chaos,Jordan B. Peterson,4.7,18979,15,Non Fiction\\r\\n1984 (Signet Classics),George Orwell,4.7,21424,6,Fiction\\r\\n\"5,000 Awesome Facts (About Everything!) (National Geographic Kids)\",National Geographic Kids,4.8,7665,12,Non Fiction\\r\\nA Dance with Dragons (A Song of Ice and Fire),George R.R. Martin,4.4,12643,11,Fiction\\r\\nA Game of Thrones / A Clash of Kings / A Storm of Swords / A Feast of Crows / A Dance with Dragons,George R.R. Martin,4.7,19735,30,Fiction\\r\\nA Gentleman in Moscow: A Novel,Amor Towles,4.7,19699,15,Fiction\\r\\n\"A Higher Loyalty: Truth, Lies, and Leadership\",James Comey,4.7,5983,3,Non Fiction\\r\\nA Man Called Ove: A Novel,Fredrik Backman,4.6,23848,8,Fiction\\r\\nA Patriot\\'s History of the United States: From Columbus\\'s Great Discovery to the War on Terror,Larry Schweikart,4.6,460,2,Non Fiction\\r\\nA Stolen Life: A Memoir,Jaycee Dugard,4.6,4149,32,Non Fiction\\r\\nA Wrinkle in Time (Time Quintet),Madeleine L\\'Engle,4.5,5153,5,Fiction\\r\\n\"Act Like a Lady, Think Like a Man: What Men Really Think About Love, Relationships, Intimacy, and Commitment\",Steve Harvey,4.6,5013,17,Non Fiction\\r\\n\"Adult Coloring Book Designs: Stress Relief Coloring Book: Garden Designs, Mandalas, Animals, and Paisley Patterns\",Adult Coloring Book Designs,4.5,2313,4,Non Fiction\\r\\nAdult Coloring Book: Stress Relieving Animal Designs,Blue Star Coloring,4.6,2925,6,Non Fiction\\r\\nAdult Coloring Book: Stress Relieving Patterns,Blue Star Coloring,4.4,2951,6,Non Fiction\\r\\n\"Adult Coloring Books: A Coloring Book for Adults Featuring Mandalas and Henna Inspired Flowers, Animals, and Paisley…\",Coloring Books for Adults,4.5,2426,8,Non Fiction\\r\\nAlexander Hamilton,Ron Chernow,4.8,9198,13,Non Fiction\\r\\nAll the Light We Cannot See,Anthony Doerr,4.6,36348,14,Fiction\\r\\nAllegiant,Veronica Roth,3.9,6310,13,Fiction\\r\\nAmerican Sniper: The Autobiography of the Most Lethal Sniper in U.S. Military History,Chris Kyle,4.6,15921,9,Non Fiction\\r\\nAnd the Mountains Echoed,Khaled Hosseini,4.3,12159,13,Fiction\\r\\nArguing with Idiots: How to Stop Small Minds and Big Government,Glenn Beck,4.6,798,5,Non Fiction\\r\\nAstrophysics for People in a Hurry,Neil deGrasse Tyson,4.7,9374,9,Non Fiction\\r\\n\"Autobiography of Mark Twain, Vol. 1\",Mark Twain,4.2,491,14,Non Fiction\\r\\nBaby Touch and Feel: Animals,DK,4.6,5360,5,Non Fiction\\r\\nBalance (Angie\\'s Extreme Stress Menders),Angie Grace,4.6,1909,11,Non Fiction\\r\\nBarefoot Contessa Foolproof: Recipes You Can Trust: A Cookbook,Ina Garten,4.8,1296,24,Non Fiction\\r\\n\"Barefoot Contessa, How Easy Is That?: Fabulous Recipes & Easy Tips\",Ina Garten,4.7,615,21,Non Fiction\\r\\nBecoming,Michelle Obama,4.8,61133,11,Non Fiction\\r\\nBeing Mortal: Medicine and What Matters in the End,Atul Gawande,4.8,11113,15,Non Fiction\\r\\nBetween the World and Me,Ta-Nehisi Coates,4.7,10070,13,Non Fiction\\r\\nBorn to Run,Bruce Springsteen,4.7,3729,18,Non Fiction\\r\\n\"Breaking Dawn (The Twilight Saga, Book 4)\",Stephenie Meyer,4.6,9769,13,Fiction\\r\\n\"Broke: The Plan to Restore Our Trust, Truth and Treasure\",Glenn Beck,4.5,471,8,Non Fiction\\r\\n\"Brown Bear, Brown Bear, What Do You See?\",Bill Martin Jr.,4.9,14344,5,Fiction\\r\\n\"Cabin Fever (Diary of a Wimpy Kid, Book 6)\",Jeff Kinney,4.8,4505,0,Fiction\\r\\nCalm the F*ck Down: An Irreverent Adult Coloring Book (Irreverent Book Series),Sasha O\\'Hara,4.6,10369,4,Non Fiction\\r\\nCan\\'t Hurt Me: Master Your Mind and Defy the Odds,David Goggins,4.8,16244,18,Non Fiction\\r\\nCapital in the Twenty First Century,Thomas Piketty,4.5,2884,28,Non Fiction\\r\\nCatching Fire (The Hunger Games),Suzanne Collins,4.7,22614,11,Fiction\\r\\nCravings: Recipes for All the Food You Want to Eat: A Cookbook,Chrissy Teigen,4.7,4761,16,Non Fiction\\r\\nCrazy Love: Overwhelmed by a Relentless God,Francis Chan,4.7,1542,14,Non Fiction\\r\\nCrazy Rich Asians (Crazy Rich Asians Trilogy),Kevin Kwan,4.3,6143,8,Fiction\\r\\nCreative Haven Creative Cats Coloring Book (Adult Coloring),Marjorie Sarnat,4.8,4022,4,Non Fiction\\r\\nCreative Haven Owls Coloring Book (Adult Coloring),Marjorie Sarnat,4.8,3871,5,Non Fiction\\r\\nCutting for Stone,Abraham Verghese,4.6,4866,11,Fiction\\r\\n\"Daring Greatly: How the Courage to Be Vulnerable Transforms the Way We Live, Love, Parent, and Lead\",Brené Brown,4.8,1329,10,Non Fiction\\r\\n\"David and Goliath: Underdogs, Misfits, and the Art of Battling Giants\",Malcolm Gladwell,4.4,4642,13,Non Fiction\\r\\nDead And Gone: A Sookie Stackhouse Novel (Sookie Stackhouse/True Blood),Charlaine Harris,4.6,1541,4,Fiction\\r\\n\"Dead in the Family (Sookie Stackhouse/True Blood, Book 10)\",Charlaine Harris,4.3,1924,8,Fiction\\r\\n\"Dead Reckoning (Sookie Stackhouse/True Blood, Book 11)\",Charlaine Harris,4.2,2094,4,Fiction\\r\\nDear Zoo: A Lift-the-Flap Book,Rod Campbell,4.8,10922,5,Fiction\\r\\nDecision Points,George W. Bush,4.6,2137,17,Non Fiction\\r\\n\"Delivering Happiness: A Path to Profits, Passion, and Purpose\",Tony Hsieh,4.6,1651,15,Non Fiction\\r\\n\"Diagnostic and Statistical Manual of Mental Disorders, 5th Edition: DSM-5\",American Psychiatric Association,4.5,6679,105,Non Fiction\\r\\n\"Diary of a Wimpy Kid: Hard Luck, Book 8\",Jeff Kinney,4.8,6812,0,Fiction\\r\\nDiary of a Wimpy Kid: The Last Straw (Book 3),Jeff Kinney,4.8,3837,15,Fiction\\r\\nDiary of a Wimpy Kid: The Long Haul,Jeff Kinney,4.8,6540,22,Fiction\\r\\nDifficult Riddles For Smart Kids: 300 Difficult Riddles And Brain Teasers Families Will Love (Books for Smart Kids),M Prefontaine,4.6,7955,5,Non Fiction\\r\\nDivergent,Veronica Roth,4.6,27098,15,Fiction\\r\\nDivergent / Insurgent,Veronica Roth,4.5,17684,6,Fiction\\r\\n\"Divine Soul Mind Body Healing and Transmission System: The Divine Way to Heal You, Humanity, Mother Earth, and All…\",Zhi Gang Sha,4.6,37,6,Non Fiction\\r\\nDoctor Sleep: A Novel,Stephen King,4.7,15845,13,Fiction\\r\\n\"Dog Days (Diary of a Wimpy Kid, Book 4) (Volume 4)\",Jeff Kinney,4.8,3181,12,Fiction\\r\\nDog Man and Cat Kid: From the Creator of Captain Underpants (Dog Man #4),Dav Pilkey,4.9,5062,6,Fiction\\r\\nDog Man: A Tale of Two Kitties: From the Creator of Captain Underpants (Dog Man #3),Dav Pilkey,4.9,4786,8,Fiction\\r\\nDog Man: Brawl of the Wild: From the Creator of Captain Underpants (Dog Man #6),Dav Pilkey,4.9,7235,4,Fiction\\r\\nDog Man: Fetch-22: From the Creator of Captain Underpants (Dog Man #8),Dav Pilkey,4.9,12619,8,Fiction\\r\\nDog Man: For Whom the Ball Rolls: From the Creator of Captain Underpants (Dog Man #7),Dav Pilkey,4.9,9089,8,Fiction\\r\\nDog Man: Lord of the Fleas: From the Creator of Captain Underpants (Dog Man #5),Dav Pilkey,4.9,5470,6,Fiction\\r\\nDouble Down (Diary of a Wimpy Kid #11),Jeff Kinney,4.8,5118,20,Fiction\\r\\nDover Creative Haven Art Nouveau Animal Designs Coloring Book (Creative Haven Coloring Books),Marty Noble,4.6,2134,5,Non Fiction\\r\\nDrive: The Surprising Truth About What Motivates Us,Daniel H. Pink,4.5,2525,16,Non Fiction\\r\\nEat This Not That! Supermarket Survival Guide: The No-Diet Weight Loss Solution,David Zinczenko,4.5,720,1,Non Fiction\\r\\n\"Eat This, Not That! Thousands of Simple Food Swaps that Can Save You 10, 20, 30 Pounds--or More!\",David Zinczenko,4.3,956,14,Non Fiction\\r\\n\"Eat to Live: The Amazing Nutrient-Rich Program for Fast and Sustained Weight Loss, Revised Edition\",Joel Fuhrman MD,4.5,6346,9,Non Fiction\\r\\nEclipse (Twilight Sagas),Stephenie Meyer,4.7,5505,7,Fiction\\r\\nEclipse (Twilight),Stephenie Meyer,4.7,5505,18,Fiction\\r\\nEducated: A Memoir,Tara Westover,4.7,28729,15,Non Fiction\\r\\n\"Enchanted Forest: An Inky Quest and Coloring book (Activity Books, Mindfulness and Meditation, Illustrated Floral Prints…\",Johanna Basford,4.7,5413,9,Non Fiction\\r\\nFahrenheit 451,Ray Bradbury,4.6,10721,8,Fiction\\r\\nFantastic Beasts and Where to Find Them: The Original Screenplay (Harry Potter),J.K. Rowling,4.7,4370,15,Fiction\\r\\nFear: Trump in the White House,Bob Woodward,4.4,6042,2,Non Fiction\\r\\nFifty Shades Darker,E L James,4.4,23631,7,Fiction\\r\\nFifty Shades Freed: Book Three of the Fifty Shades Trilogy (Fifty Shades of Grey Series) (English Edition),E L James,4.5,20262,11,Fiction\\r\\nFifty Shades of Grey: Book One of the Fifty Shades Trilogy (Fifty Shades of Grey Series),E L James,3.8,47265,14,Fiction\\r\\nFifty Shades Trilogy (Fifty Shades of Grey / Fifty Shades Darker / Fifty Shades Freed),E L James,4.5,13964,32,Fiction\\r\\nFire and Fury: Inside the Trump White House,Michael Wolff,4.2,13677,6,Non Fiction\\r\\nFirst 100 Words,Roger Priddy,4.7,17323,4,Non Fiction\\r\\nFood Rules: An Eater\\'s Manual,Michael Pollan,4.4,1555,9,Non Fiction\\r\\nFrozen (Little Golden Book),RH Disney,4.7,3642,0,Fiction\\r\\n\"Game Change: Obama and the Clintons, McCain and Palin, and the Race of a Lifetime\",John Heilemann,4.4,1215,9,Non Fiction\\r\\nGame of Thrones Boxed Set: A Game of Thrones/A Clash of Kings/A Storm of Swords/A Feast for Crows,George R.R. Martin,4.6,5594,5,Fiction\\r\\nGeorge Washington\\'s Sacred Fire,Peter A. Lillback,4.5,408,20,Non Fiction\\r\\nGeorge Washington\\'s Secret Six: The Spy Ring That Saved the American Revolution,Brian Kilmeade,4.6,4799,16,Non Fiction\\r\\nGiraffes Can\\'t Dance,Giles Andreae,4.8,14038,4,Fiction\\r\\n\"Girl, Stop Apologizing: A Shame-Free Plan for Embracing and Achieving Your Goals\",Rachel Hollis,4.6,7660,12,Non Fiction\\r\\n\"Girl, Wash Your Face: Stop Believing the Lies About Who You Are So You Can Become Who You Were Meant to Be\",Rachel Hollis,4.6,22288,12,Non Fiction\\r\\n\"Glenn Beck\\'s Common Sense: The Case Against an Out-of-Control Government, Inspired by Thomas Paine\",Glenn Beck,4.6,1365,11,Non Fiction\\r\\nGo Set a Watchman: A Novel,Harper Lee,3.6,14982,19,Fiction\\r\\nGo the F**k to Sleep,Adam Mansbach,4.8,9568,9,Fiction\\r\\nGoing Rogue: An American Life,Sarah Palin,4.6,1636,6,Non Fiction\\r\\nGone Girl,Gillian Flynn,4.0,57271,9,Fiction\\r\\nGood Days Start With Gratitude: A 52 Week Guide To Cultivate An Attitude Of Gratitude: Gratitude Journal,Pretty Simple Press,4.6,10141,6,Non Fiction\\r\\nGood to Great: Why Some Companies Make the Leap and Others Don\\'t,Jim Collins,4.5,3457,14,Non Fiction\\r\\nGoodnight Moon,Margaret Wise Brown,4.8,8837,5,Fiction\\r\\n\"Goodnight, Goodnight Construction Site (Hardcover Books for Toddlers, Preschool Books for Kids)\",Sherri Duskey Rinker,4.9,7038,7,Fiction\\r\\n\"Grain Brain: The Surprising Truth about Wheat, Carbs, and Sugar--Your Brain\\'s Silent Killers\",David Perlmutter MD,4.6,5972,10,Non Fiction\\r\\nGrey: Fifty Shades of Grey as Told by Christian (Fifty Shades of Grey Series),E L James,4.4,25624,14,Fiction\\r\\nGuts,Raina Telgemeier,4.8,5476,7,Non Fiction\\r\\nHamilton: The Revolution,Lin-Manuel Miranda,4.9,5867,54,Non Fiction\\r\\n\"Happy, Happy, Happy: My Life and Legacy as the Duck Commander\",Phil Robertson,4.8,4148,11,Non Fiction\\r\\n\"Harry Potter and the Chamber of Secrets: The Illustrated Edition (Harry Potter, Book 2)\",J.K. Rowling,4.9,19622,30,Fiction\\r\\n\"Harry Potter and the Cursed Child, Parts 1 & 2, Special Rehearsal Edition Script\",J.K. Rowling,4.0,23973,12,Fiction\\r\\n\"Harry Potter and the Goblet of Fire: The Illustrated Edition (Harry Potter, Book 4) (4)\",J.K. Rowling,4.9,7758,18,Fiction\\r\\n\"Harry Potter and the Prisoner of Azkaban: The Illustrated Edition (Harry Potter, Book 3)\",J.K. Rowling,4.9,3146,30,Fiction\\r\\n\"Harry Potter and the Sorcerer\\'s Stone: The Illustrated Edition (Harry Potter, Book 1)\",J.K. Rowling,4.9,10052,22,Fiction\\r\\nHarry Potter Coloring Book,Scholastic,4.7,3564,9,Non Fiction\\r\\nHarry Potter Paperback Box Set (Books 1-7),J.K. Rowling,4.8,13471,52,Fiction\\r\\nHave a Little Faith: A True Story,Mitch Albom,4.8,1930,4,Non Fiction\\r\\nHeaven is for Real: A Little Boy\\'s Astounding Story of His Trip to Heaven and Back,Todd Burpo,4.7,15779,10,Non Fiction\\r\\nHillbilly Elegy: A Memoir of a Family and Culture in Crisis,J. D. Vance,4.4,15526,14,Non Fiction\\r\\nHomebody: A Guide to Creating Spaces You Never Want to Leave,Joanna Gaines,4.8,3776,22,Non Fiction\\r\\nHow to Win Friends & Influence People,Dale Carnegie,4.7,25001,11,Non Fiction\\r\\nHoward Stern Comes Again,Howard Stern,4.3,5272,16,Non Fiction\\r\\nHumans of New York,Brandon Stanton,4.8,3490,15,Non Fiction\\r\\nHumans of New York : Stories,Brandon Stanton,4.9,2812,17,Non Fiction\\r\\n\"Hyperbole and a Half: Unfortunate Situations, Flawed Coping Mechanisms, Mayhem, and Other Things That Happened\",Allie Brosh,4.7,4896,17,Non Fiction\\r\\n\"I Am Confident, Brave & Beautiful: A Coloring Book for Girls\",Hopscotch Girls,4.8,9737,7,Non Fiction\\r\\n\"I, Alex Cross\",James Patterson,4.6,1320,7,Fiction\\r\\nIf Animals Kissed Good Night,Ann Whitford Paul,4.8,16643,4,Fiction\\r\\nIf I Stay,Gayle Forman,4.3,7153,9,Fiction\\r\\n\"In the Garden of Beasts: Love, Terror, and an American Family in Hitler\\'s Berlin\",Eric Larson,4.4,4571,21,Non Fiction\\r\\nInferno,Dan Brown,4.1,29651,14,Fiction\\r\\nInheritance: Book IV (Inheritance Cycle),Christopher Paolini,4.6,5299,20,Fiction\\r\\nInstant Pot Pressure Cooker Cookbook: 500 Everyday Recipes for Beginners and Advanced Users. Try Easy and Healthy…,Jennifer Smith,4.4,7396,13,Non Fiction\\r\\nIt\\'s Not Supposed to Be This Way: Finding Unexpected Strength When Disappointments Leave You Shattered,Lysa TerKeurst,4.8,7062,12,Non Fiction\\r\\nJesus Calling: Enjoying Peace in His Presence (with Scripture References),Sarah Young,4.9,19576,8,Non Fiction\\r\\nJOURNEY TO THE ICE P,RH Disney,4.6,978,0,Fiction\\r\\nJoyland (Hard Case Crime),Stephen King,4.5,4748,12,Fiction\\r\\nKillers of the Flower Moon: The Osage Murders and the Birth of the FBI,David Grann,4.6,8393,17,Non Fiction\\r\\nKilling Jesus (Bill O\\'Reilly\\'s Killing Series),Bill O\\'Reilly,4.5,11391,12,Non Fiction\\r\\nKilling Kennedy: The End of Camelot,Bill O\\'Reilly,4.6,8634,25,Non Fiction\\r\\nKilling Lincoln: The Shocking Assassination that Changed America Forever (Bill O\\'Reilly\\'s Killing Series),Bill O\\'Reilly,4.7,9342,10,Non Fiction\\r\\nKilling Patton: The Strange Death of World War II\\'s Most Audacious General (Bill O\\'Reilly\\'s Killing Series),Bill O\\'Reilly,4.6,10927,6,Non Fiction\\r\\nKilling Reagan: The Violent Assault That Changed a Presidency (Bill O\\'Reilly\\'s Killing Series),Bill O\\'Reilly,4.6,5235,5,Non Fiction\\r\\nKilling the Rising Sun: How America Vanquished World War II Japan (Bill O\\'Reilly\\'s Killing Series),Bill O\\'Reilly,4.8,8916,6,Non Fiction\\r\\nKitchen Confidential Updated Edition: Adventures in the Culinary Underbelly (P.S.),Anthony Bourdain,4.8,2507,8,Non Fiction\\r\\nKnock-Knock Jokes for Kids,Rob Elliott,4.5,3673,4,Non Fiction\\r\\n\"Last Week Tonight with John Oliver Presents A Day in the Life of Marlon Bundo (Better Bundo Book, LGBT Children\\x92s Book)\",Jill Twiss,4.9,11881,13,Fiction\\r\\nLaugh-Out-Loud Jokes for Kids,Rob Elliott,4.6,6990,4,Non Fiction\\r\\n\"Lean In: Women, Work, and the Will to Lead\",Sheryl Sandberg,4.5,6132,13,Non Fiction\\r\\nLeonardo da Vinci,Walter Isaacson,4.5,3014,21,Non Fiction\\r\\nLettering and Modern Calligraphy: A Beginner\\'s Guide: Learn Hand Lettering and Brush Lettering,Paper Peony Press,4.4,7550,6,Non Fiction\\r\\nLiberty and Tyranny: A Conservative Manifesto,Mark R. Levin,4.8,3828,15,Non Fiction\\r\\nLife,Keith Richards,4.5,2752,18,Non Fiction\\r\\nLittle Bee: A Novel,Chris Cleave,4.1,1467,10,Fiction\\r\\nLittle Blue Truck,Alice Schertle,4.9,1884,0,Fiction\\r\\nLittle Fires Everywhere,Celeste Ng,4.5,25706,12,Fiction\\r\\nLooking for Alaska,John Green,4.5,8491,7,Fiction\\r\\n\"Love Wins: A Book About Heaven, Hell, and the Fate of Every Person Who Ever Lived\",Rob Bell,4.2,1649,13,Non Fiction\\r\\nLove You Forever,Robert Munsch,4.8,18613,5,Fiction\\r\\nMagnolia Table: A Collection of Recipes for Gathering,Joanna Gaines,4.8,9867,16,Non Fiction\\r\\nMake It Ahead: A Barefoot Contessa Cookbook,Ina Garten,4.5,1386,20,Non Fiction\\r\\nMake Your Bed: Little Things That Can Change Your Life...And Maybe the World,Admiral William H. McRaven,4.7,10199,11,Non Fiction\\r\\n\"Mastering the Art of French Cooking, Vol. 2\",Julia Child,4.8,2926,27,Non Fiction\\r\\nMilk and Honey,Rupi Kaur,4.7,17739,8,Non Fiction\\r\\nMilk and Vine: Inspirational Quotes From Classic Vines,Adam Gasiewski,4.4,3113,6,Non Fiction\\r\\nMindset: The New Psychology of Success,Carol S. Dweck,4.6,5542,10,Non Fiction\\r\\nMockingjay (The Hunger Games),Suzanne Collins,4.5,26741,8,Fiction\\r\\n\"National Geographic Kids Why?: Over 1,111 Answers to Everything\",Crispin Boyer,4.8,5347,16,Non Fiction\\r\\nNational Geographic Little Kids First Big Book of Why (National Geographic Little Kids First Big Books),Amy Shields,4.8,7866,11,Non Fiction\\r\\nNew Moon (The Twilight Saga),Stephenie Meyer,4.6,5680,10,Fiction\\r\\nNight (Night),Elie Wiesel,4.7,5178,9,Non Fiction\\r\\nNo Easy Day: The Autobiography of a Navy Seal: The Firsthand Account of the Mission That Killed Osama Bin Laden,Mark Owen,4.6,8093,14,Non Fiction\\r\\nObama: An Intimate Portrait,Pete Souza,4.9,3192,22,Non Fiction\\r\\n\"Oh, the Places You\\'ll Go!\",Dr. Seuss,4.9,21834,8,Fiction\\r\\nOld School (Diary of a Wimpy Kid #10),Jeff Kinney,4.8,6169,7,Fiction\\r\\nOlive Kitteridge,Elizabeth Strout,4.2,4519,12,Fiction\\r\\nOne Thousand Gifts: A Dare to Live Fully Right Where You Are,Ann Voskamp,4.6,3163,13,Non Fiction\\r\\n\"Option B: Facing Adversity, Building Resilience, and Finding Joy\",Sheryl Sandberg,4.5,1831,9,Non Fiction\\r\\nOrigin: A Novel (Robert Langdon),Dan Brown,4.3,18904,13,Fiction\\r\\nOrphan Train,Christina Baker Kline,4.6,21930,11,Fiction\\r\\nOutliers: The Story of Success,Malcolm Gladwell,4.6,10426,20,Non Fiction\\r\\nP is for Potty! (Sesame Street) (Lift-the-Flap),Naomi Kleinberg,4.7,10820,5,Non Fiction\\r\\nPercy Jackson and the Olympians Paperback Boxed Set (Books 1-3),Rick Riordan,4.8,548,2,Fiction\\r\\nPlayer\\'s Handbook (Dungeons & Dragons),Wizards RPG Team,4.8,16990,27,Fiction\\r\\nPokémon Deluxe Essential Handbook: The Need-to-Know Stats and Facts on Over 700 Pokémon,Scholastic,4.7,3503,9,Fiction\\r\\nProof of Heaven: A Neurosurgeon\\'s Journey into the Afterlife,Eben Alexander,4.3,13616,10,Non Fiction\\r\\n\"Publication Manual of the American Psychological Association, 6th Edition\",American Psychological Association,4.5,8580,46,Non Fiction\\r\\nPuppy Birthday to You! (Paw Patrol) (Little Golden Book),Golden Books,4.8,4757,4,Fiction\\r\\nQuiet: The Power of Introverts in a World That Can\\'t Stop Talking,Susan Cain,4.6,10009,7,Non Fiction\\r\\nRadical: Taking Back Your Faith from the American Dream,David Platt,4.7,1985,9,Non Fiction\\r\\nReady Player One: A Novel,Ernest Cline,4.6,22536,12,Fiction\\r\\nRush Revere and the Brave Pilgrims: Time-Travel Adventures with Exceptional Americans (1),Rush Limbaugh,4.9,7150,12,Fiction\\r\\nRush Revere and the First Patriots: Time-Travel Adventures With Exceptional Americans (2),Rush Limbaugh,4.9,3836,12,Fiction\\r\\n\"Salt, Fat, Acid, Heat: Mastering the Elements of Good Cooking\",Samin Nosrat,4.8,7802,20,Non Fiction\\r\\nSarah\\'s Key,Tatiana de Rosnay,4.6,3619,10,Fiction\\r\\n\"School Zone - Big Preschool Workbook - Ages 4 and Up, Colors, Shapes, Numbers 1-10, Alphabet, Pre-Writing, Pre-Reading…\",School Zone,4.8,23047,6,Non Fiction\\r\\n\"Secret Garden: An Inky Treasure Hunt and Coloring Book (For Adults, mindfulness coloring)\",Johanna Basford,4.7,9366,9,Non Fiction\\r\\nSh*t My Dad Says,Justin Halpern,4.7,1265,11,Non Fiction\\r\\nShip of Fools: How a Selfish Ruling Class Is Bringing America to the Brink of Revolution,Tucker Carlson,4.8,3923,16,Non Fiction\\r\\nShred: The Revolutionary Diet: 6 Weeks 4 Inches 2 Sizes,Ian K. Smith M.D.,4.1,2272,6,Non Fiction\\r\\nSookie Stackhouse,Charlaine Harris,4.7,973,25,Fiction\\r\\n\"Soul Healing Miracles: Ancient and New Sacred Wisdom, Knowledge, and Practical Techniques for Healing the Spiritual…\",Zhi Gang Sha,4.6,220,17,Non Fiction\\r\\nSteve Jobs,Walter Isaacson,4.6,7827,20,Non Fiction\\r\\nStrange Planet (Strange Planet Series),Nathan W. Pyle,4.9,9382,6,Fiction\\r\\nStrengthsFinder 2.0,Gallup,4.0,5069,17,Non Fiction\\r\\n\"Super Freakonomics: Global Cooling, Patriotic Prostitutes, and Why Suicide Bombers Should Buy Life Insurance\",Steven D. Levitt,4.5,1583,18,Non Fiction\\r\\nSwitch: How to Change Things When Change Is Hard,Chip Heath,4.6,1907,13,Non Fiction\\r\\nSycamore Row (Jake Brigance),John Grisham,4.5,23114,18,Fiction\\r\\nTeach Like a Champion: 49 Techniques that Put Students on the Path to College,Doug Lemov,4.4,637,20,Non Fiction\\r\\nThe 17 Day Diet: A Doctor\\'s Plan Designed for Rapid Results,Mike Moreno,4.3,2314,22,Non Fiction\\r\\n\"The 4 Hour Body: An Uncommon Guide to Rapid Fat Loss, Incredible Sex and Becoming Superhuman\",Timothy Ferriss,4.3,4587,21,Non Fiction\\r\\nThe 5 Love Languages: The Secret to Love That Lasts,Gary Chapman,4.7,3477,28,Non Fiction\\r\\nThe 5 Love Languages: The Secret to Love that Lasts,Gary Chapman,4.8,25554,8,Non Fiction\\r\\nThe 5000 Year Leap,W. Cleon Skousen,4.8,1680,12,Non Fiction\\r\\nThe 7 Habits of Highly Effective People: Powerful Lessons in Personal Change,Stephen R. Covey,4.7,4725,16,Non Fiction\\r\\nThe Alchemist,Paulo Coelho,4.7,35799,39,Fiction\\r\\nThe Amateur,Edward Klein,4.6,2580,9,Non Fiction\\r\\nThe Art of Racing in the Rain: A Novel,Garth Stein,4.7,11813,10,Fiction\\r\\nThe Big Short: Inside the Doomsday Machine,Michael Lewis,4.7,3536,17,Non Fiction\\r\\nThe Blood of Olympus (The Heroes of Olympus (5)),Rick Riordan,4.8,6600,11,Fiction\\r\\n\"The Blood Sugar Solution: The UltraHealthy Program for Losing Weight, Preventing Disease, and Feeling Great Now!\",Mark Hyman M.D.,4.2,1789,14,Non Fiction\\r\\n\"The Body Keeps the Score: Brain, Mind, and Body in the Healing of Trauma\",Bessel van der Kolk M.D.,4.8,12361,12,Non Fiction\\r\\nThe Book of Basketball: The NBA According to The Sports Guy,Bill Simmons,4.7,858,53,Non Fiction\\r\\nThe Book Thief,Markus Zusak,4.6,23148,6,Fiction\\r\\nThe Book with No Pictures,B. J. Novak,4.8,8081,8,Fiction\\r\\nThe Boys in the Boat: Nine Americans and Their Epic Quest for Gold at the 1936 Berlin Olympics,Daniel James Brown,4.8,23358,12,Non Fiction\\r\\nThe Casual Vacancy,J.K. Rowling,3.3,9372,12,Fiction\\r\\nThe China Study: The Most Comprehensive Study of Nutrition Ever Conducted And the Startling Implications for Diet…,Thomas Campbell,4.7,4633,21,Non Fiction\\r\\nThe Complete Ketogenic Diet for Beginners: Your Essential Guide to Living the Keto Lifestyle,Amy Ramos,4.3,13061,6,Non Fiction\\r\\nThe Confession: A Novel,John Grisham,4.3,3523,13,Fiction\\r\\nThe Constitution of the United States,Delegates of the Constitutional\\x85,4.8,2774,0,Non Fiction\\r\\nThe Daily Show with Jon Stewart Presents Earth (The Book): A Visitor\\'s Guide to the Human Race,Jon Stewart,4.4,440,11,Non Fiction\\r\\nThe Day the Crayons Quit,Drew Daywalt,4.8,8922,9,Fiction\\r\\n\"The Dukan Diet: 2 Steps to Lose the Weight, 2 Steps to Keep It Off Forever\",Pierre Dukan,4.1,2023,15,Non Fiction\\r\\nThe Elegance of the Hedgehog,Muriel Barbery,4.0,1859,11,Fiction\\r\\nThe Fault in Our Stars,John Green,4.7,50482,7,Fiction\\r\\nThe Five Dysfunctions of a Team: A Leadership Fable,Patrick Lencioni,4.6,3207,6,Non Fiction\\r\\nThe Five Love Languages: How to Express Heartfelt Commitment to Your Mate,Gary Chapman,4.6,803,9,Non Fiction\\r\\nThe Four Agreements: A Practical Guide to Personal Freedom (A Toltec Wisdom Book),Don Miguel Ruiz,4.7,23308,6,Non Fiction\\r\\nThe Getaway,Jeff Kinney,4.8,5836,0,Fiction\\r\\nThe Girl on the Train,Paula Hawkins,4.1,79446,7,Fiction\\r\\nThe Girl Who Kicked the Hornet\\'s Nest (Millennium Trilogy),Stieg Larsson,4.7,7747,14,Fiction\\r\\nThe Girl Who Played with Fire (Millennium Series),Stieg Larsson,4.7,7251,9,Fiction\\r\\nThe Girl Who Played with Fire (Millennium),Stieg Larsson,4.7,7251,16,Fiction\\r\\nThe Girl with the Dragon Tattoo (Millennium Series),Stieg Larsson,4.4,10559,2,Fiction\\r\\nThe Going-To-Bed Book,Sandra Boynton,4.8,5249,5,Fiction\\r\\nThe Goldfinch: A Novel (Pulitzer Prize for Fiction),Donna Tartt,3.9,33844,20,Fiction\\r\\nThe Great Gatsby,F. Scott Fitzgerald,4.4,11616,7,Fiction\\r\\nThe Guardians: A Novel,John Grisham,4.5,13609,14,Fiction\\r\\nThe Guernsey Literary and Potato Peel Pie Society,Mary Ann Shaffer,4.7,8587,10,Fiction\\r\\nThe Handmaid\\'s Tale,Margaret Atwood,4.3,29442,7,Fiction\\r\\nThe Harbinger: The Ancient Mystery that Holds the Secret of America\\'s Future,Jonathan Cahn,4.6,11098,13,Fiction\\r\\nThe Hate U Give,Angie Thomas,4.8,9947,11,Fiction\\r\\nThe Help,Kathryn Stockett,4.8,13871,7,Fiction\\r\\n\"The House of Hades (Heroes of Olympus, Book 4)\",Rick Riordan,4.8,6982,14,Fiction\\r\\nThe Hunger Games,Suzanne Collins,4.7,32122,14,Fiction\\r\\nThe Hunger Games (Book 1),Suzanne Collins,4.7,32122,8,Fiction\\r\\nThe Hunger Games Trilogy Boxed Set (1),Suzanne Collins,4.8,16949,30,Fiction\\r\\nThe Immortal Life of Henrietta Lacks,Rebecca Skloot,4.7,9289,9,Non Fiction\\r\\nThe Instant Pot Electric Pressure Cooker Cookbook: Easy Recipes for Fast & Healthy Meals,Laurel Randolph,4.3,7368,7,Non Fiction\\r\\nThe Last Lecture,Randy Pausch,4.7,4028,9,Non Fiction\\r\\n\"The Last Olympian (Percy Jackson and the Olympians, Book 5)\",Rick Riordan,4.8,4628,7,Fiction\\r\\nThe Legend of Zelda: Hyrule Historia,Patrick Thorpe,4.9,5396,20,Fiction\\r\\nThe Lego Ideas Book: Unlock Your Imagination,Daniel Lipkowitz,4.4,4247,13,Non Fiction\\r\\nThe Life-Changing Magic of Tidying Up: The Japanese Art of Decluttering and Organizing,Marie Kondō,4.5,22641,11,Non Fiction\\r\\nThe Litigators,John Grisham,4.4,6222,18,Fiction\\r\\n\"The Lost Hero (Heroes of Olympus, Book 1)\",Rick Riordan,4.8,4506,14,Fiction\\r\\nThe Lost Symbol,Dan Brown,4.2,8747,19,Fiction\\r\\nThe Love Dare,Stephen Kendrick,4.8,1655,13,Non Fiction\\r\\nThe Magnolia Story,Chip Gaines,4.9,7861,5,Non Fiction\\r\\n\"The Mark of Athena (Heroes of Olympus, Book 3)\",Rick Riordan,4.8,6247,10,Fiction\\r\\nThe Martian,Andy Weir,4.7,39459,9,Fiction\\r\\nThe Maze Runner (Book 1),James Dashner,4.5,10101,8,Fiction\\r\\nThe Meltdown (Diary of a Wimpy Kid Book 13),Jeff Kinney,4.8,5898,8,Fiction\\r\\nThe Mueller Report,The Washington Post,4.6,2744,12,Non Fiction\\r\\nThe Nightingale: A Novel,Kristin Hannah,4.8,49288,11,Fiction\\r\\nThe Official SAT Study Guide,The College Board,4.4,1201,40,Non Fiction\\r\\n\"The Official SAT Study Guide, 2016 Edition (Official Study Guide for the New Sat)\",The College Board,4.3,807,36,Non Fiction\\r\\nThe Paris Wife: A Novel,Paula McLain,4.3,3759,16,Fiction\\r\\n\"The Pioneer Woman Cooks: A Year of Holidays: 140 Step-by-Step Recipes for Simple, Scrumptious Celebrations\",Ree Drummond,4.8,2663,17,Non Fiction\\r\\n\"The Pioneer Woman Cooks: Dinnertime - Comfort Classics, Freezer Food, 16-minute Meals, and Other Delicious Ways to Solve…\",Ree Drummond,4.8,3428,14,Non Fiction\\r\\nThe Pioneer Woman Cooks: Food from My Frontier,Ree Drummond,4.8,2876,21,Non Fiction\\r\\n\"The Plant Paradox Cookbook: 100 Delicious Recipes to Help You Lose Weight, Heal Your Gut, and Live Lectin-Free\",Dr. Steven R Gundry MD,4.5,3601,18,Non Fiction\\r\\n\"The Plant Paradox: The Hidden Dangers in \"\"Healthy\"\" Foods That Cause Disease and Weight Gain\",Dr. Steven R Gundry MD,4.4,7058,17,Non Fiction\\r\\nThe Pout-Pout Fish,Deborah Diesen,4.8,9784,5,Fiction\\r\\nThe Power of Habit: Why We Do What We Do in Life and Business,Charles Duhigg,4.6,10795,21,Non Fiction\\r\\nThe President Is Missing: A Novel,James Patterson,4.3,10191,18,Fiction\\r\\nThe Racketeer,John Grisham,4.3,14493,18,Fiction\\r\\n\"The Red Pyramid (The Kane Chronicles, Book 1)\",Rick Riordan,4.6,2186,12,Fiction\\r\\n\"The Road to Serfdom: Text and Documents--The Definitive Edition (The Collected Works of F. A. Hayek, Volume 2)\",F. A. Hayek,4.6,1204,14,Non Fiction\\r\\n\"The Serpent\\'s Shadow (The Kane Chronicles, Book 3)\",Rick Riordan,4.8,2091,12,Fiction\\r\\nThe Shack: Where Tragedy Confronts Eternity,William P. Young,4.6,19720,8,Fiction\\r\\nThe Short Second Life of Bree Tanner: An Eclipse Novella (The Twilight Saga),Stephenie Meyer,4.6,2122,0,Fiction\\r\\nThe Silent Patient,Alex Michaelides,4.5,27536,14,Fiction\\r\\n\"The Son of Neptune (Heroes of Olympus, Book 2)\",Rick Riordan,4.8,4290,10,Fiction\\r\\nThe Subtle Art of Not Giving a F*ck: A Counterintuitive Approach to Living a Good Life,Mark Manson,4.6,26490,15,Non Fiction\\r\\nThe Sun and Her Flowers,Rupi Kaur,4.7,5487,9,Non Fiction\\r\\n\"The Third Wheel (Diary of a Wimpy Kid, Book 7)\",Jeff Kinney,4.7,6377,7,Fiction\\r\\n\"The Throne of Fire (The Kane Chronicles, Book 2)\",Rick Riordan,4.7,1463,10,Fiction\\r\\nThe Time Traveler\\'s Wife,Audrey Niffenegger,4.4,3759,6,Fiction\\r\\nThe Tipping Point: How Little Things Can Make a Big Difference,Malcolm Gladwell,4.4,3503,9,Non Fiction\\r\\nThe Total Money Makeover: Classic Edition: A Proven Plan for Financial Fitness,Dave Ramsey,4.7,11550,10,Non Fiction\\r\\nThe Twilight Saga Collection,Stephenie Meyer,4.7,3801,82,Fiction\\r\\n\"The Ugly Truth (Diary of a Wimpy Kid, Book 5)\",Jeff Kinney,4.8,3796,12,Fiction\\r\\nThe Unofficial Harry Potter Cookbook: From Cauldron Cakes to Knickerbocker Glory--More Than 150 Magical Recipes for…,Dinah Bucholz,4.7,9030,10,Non Fiction\\r\\nThe Very Hungry Caterpillar,Eric Carle,4.9,19546,5,Fiction\\r\\nThe Whole30: The 30-Day Guide to Total Health and Food Freedom,Melissa Hartwig Urban,4.6,7508,16,Non Fiction\\r\\nThe Wonderful Things You Will Be,Emily Winfield Martin,4.9,8842,10,Fiction\\r\\nThe Wonky Donkey,Craig Smith,4.8,30183,4,Fiction\\r\\nThe Wright Brothers,David McCullough,4.7,6169,16,Non Fiction\\r\\n\"Things That Matter: Three Decades of Passions, Pastimes and Politics [Deckled Edge]\",Charles Krauthammer,4.7,7034,15,Non Fiction\\r\\n\"Thinking, Fast and Slow\",Daniel Kahneman,4.6,11034,19,Non Fiction\\r\\nThirteen Reasons Why,Jay Asher,4.5,7932,9,Fiction\\r\\nThomas Jefferson: The Art of Power,Jon Meacham,4.5,1904,23,Non Fiction\\r\\nThree Cups of Tea: One Man\\'s Mission to Promote Peace - One School at a Time,Greg Mortenson,4.3,3319,11,Non Fiction\\r\\nThug Kitchen: The Official Cookbook: Eat Like You Give a F*ck (Thug Kitchen Cookbooks),Thug Kitchen,4.6,11128,23,Non Fiction\\r\\nTina Fey: Bossypants,Tina Fey,4.3,5977,12,Non Fiction\\r\\nTo Kill a Mockingbird,Harper Lee,4.8,26234,7,Fiction\\r\\n\"Tools of Titans: The Tactics, Routines, and Habits of Billionaires, Icons, and World-Class Performers\",Timothy Ferriss,4.6,4360,21,Non Fiction\\r\\n\"Towers of Midnight (Wheel of Time, Book Thirteen)\",Robert Jordan,4.8,2282,21,Fiction\\r\\nTrue Compass: A Memoir,Edward M. Kennedy,4.5,438,15,Non Fiction\\r\\n\"Twilight (The Twilight Saga, Book 1)\",Stephenie Meyer,4.7,11676,9,Fiction\\r\\nUltimate Sticker Book: Frozen: More Than 60 Reusable Full-Color Stickers,DK,4.5,2586,5,Fiction\\r\\n\"Unbroken: A World War II Story of Survival, Resilience, and Redemption\",Laura Hillenbrand,4.8,29673,13,Non Fiction\\r\\nUnder the Dome: A Novel,Stephen King,4.3,6740,20,Fiction\\r\\nUnfreedom of the Press,Mark R. Levin,4.9,5956,11,Non Fiction\\r\\nUnicorn Coloring Book: For Kids Ages 4-8 (US Edition) (Silly Bear Coloring Books),Silly Bear,4.8,6108,4,Non Fiction\\r\\n\"Uninvited: Living Loved When You Feel Less Than, Left Out, and Lonely\",Lysa TerKeurst,4.7,4585,9,Non Fiction\\r\\nWatchmen,Alan Moore,4.8,3829,42,Fiction\\r\\nWater for Elephants: A Novel,Sara Gruen,4.5,8958,12,Fiction\\r\\nWhat Happened,Hillary Rodham Clinton,4.6,5492,18,Non Fiction\\r\\nWhat If?: Serious Scientific Answers to Absurd Hypothetical Questions,Randall Munroe,4.7,9292,17,Non Fiction\\r\\nWhat Pet Should I Get? (Classic Seuss),Dr. Seuss,4.7,1873,14,Fiction\\r\\nWhat Should Danny Do? (The Power to Choose Series),Adir Levy,4.8,8170,13,Fiction\\r\\nWhat to Expect When You\\'re Expecting,Heidi Murkoff,4.4,3341,9,Non Fiction\\r\\n\"Wheat Belly: Lose the Wheat, Lose the Weight, and Find Your Path Back to Health\",William Davis,4.4,7497,6,Non Fiction\\r\\nWhen Breath Becomes Air,Paul Kalanithi,4.8,13779,14,Non Fiction\\r\\nWhere the Crawdads Sing,Delia Owens,4.8,87841,15,Fiction\\r\\nWhere the Wild Things Are,Maurice Sendak,4.8,9967,13,Fiction\\r\\nWhose Boat Is This Boat?: Comments That Don\\'t Help in the Aftermath of a Hurricane,The Staff of The Late Show with\\x85,4.6,6669,12,Non Fiction\\r\\nWild: From Lost to Found on the Pacific Crest Trail,Cheryl Strayed,4.4,17044,18,Non Fiction\\r\\nWinter of the World: Book Two of the Century Trilogy,Ken Follett,4.5,10760,15,Fiction\\r\\nWomen Food and God: An Unexpected Path to Almost Everything,Geneen Roth,4.2,1302,11,Non Fiction\\r\\nWonder,R. J. Palacio,4.8,21625,9,Fiction\\r\\nWrecking Ball (Diary of a Wimpy Kid Book 14),Jeff Kinney,4.9,9413,8,Fiction\\r\\nYou Are a Badass: How to Stop Doubting Your Greatness and Start Living an Awesome Life,Jen Sincero,4.7,14331,8,Non Fiction\\r\\n'"
      ]
     },
     "execution_count": 140,
     "metadata": {},
     "output_type": "execute_result"
    }
   ],
   "source": [
    "bestsellers2.to_csv(index=False)"
   ]
  },
  {
   "cell_type": "code",
   "execution_count": 145,
   "id": "c9b5ffcf",
   "metadata": {},
   "outputs": [],
   "source": [
    "compression_opts = dict(method='zip',\n",
    "                        archive_name='out6.csv')  \n",
    "bestsellers2.to_csv('out6.zip', index=False,\n",
    "          compression=compression_opts)  "
   ]
  },
  {
   "cell_type": "code",
   "execution_count": 146,
   "id": "b65e7256",
   "metadata": {},
   "outputs": [],
   "source": [
    "from pathlib import Path  \n",
    "filepath = Path('folder/subfolder/out6.csv')  \n",
    "filepath.parent.mkdir(parents=True, exist_ok=True)  \n",
    "bestsellers2.to_csv(filepath)  "
   ]
  },
  {
   "cell_type": "code",
   "execution_count": 147,
   "id": "2d698d94",
   "metadata": {},
   "outputs": [],
   "source": [
    "import os  \n",
    "os.makedirs('folder/subfolder', exist_ok=True)  \n",
    "bestsellers2.to_csv('folder/subfolder/out6.csv')  "
   ]
  },
  {
   "cell_type": "code",
   "execution_count": 148,
   "id": "ac224d45",
   "metadata": {},
   "outputs": [
    {
     "data": {
      "text/plain": [
       "(351, 6)"
      ]
     },
     "execution_count": 148,
     "metadata": {},
     "output_type": "execute_result"
    }
   ],
   "source": [
    "bestsellers2.shape"
   ]
  },
  {
   "cell_type": "code",
   "execution_count": null,
   "id": "3e6dc4fd",
   "metadata": {},
   "outputs": [],
   "source": []
  }
 ],
 "metadata": {
  "kernelspec": {
   "display_name": "Python 3 (ipykernel)",
   "language": "python",
   "name": "python3"
  },
  "language_info": {
   "codemirror_mode": {
    "name": "ipython",
    "version": 3
   },
   "file_extension": ".py",
   "mimetype": "text/x-python",
   "name": "python",
   "nbconvert_exporter": "python",
   "pygments_lexer": "ipython3",
   "version": "3.9.12"
  }
 },
 "nbformat": 4,
 "nbformat_minor": 5
}
